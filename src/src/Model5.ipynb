{
 "cells": [
  {
   "cell_type": "code",
   "execution_count": 1,
   "metadata": {},
   "outputs": [
    {
     "name": "stderr",
     "output_type": "stream",
     "text": [
      "Using TensorFlow backend.\n"
     ]
    }
   ],
   "source": [
    "%matplotlib tk\n",
    "import os\n",
    "os.environ['TF_CPP_MIN_LOG_LEVEL'] = '3'\n",
    "import os, glob, cv2\n",
    "import numpy as np\n",
    "from sklearn.metrics import confusion_matrix\n",
    "import tensorflow as tf\n",
    "import matplotlib.pyplot as plt\n",
    "from keras.models import Sequential\n",
    "from keras.layers import Dense, Conv2D, MaxPooling2D, Flatten, Dropout, BatchNormalization, Activation\n",
    "from keras.optimizers import Adam"
   ]
  },
  {
   "cell_type": "code",
   "execution_count": 2,
   "metadata": {},
   "outputs": [],
   "source": [
    "train_path = '../dataset/images-full/'\n",
    "classes = [\"100\", \"106\", \"109\", \"118\", \"213\", \"217\"]"
   ]
  },
  {
   "cell_type": "code",
   "execution_count": 3,
   "metadata": {},
   "outputs": [],
   "source": [
    "def load_data_cnn(train_path):\n",
    "    images = []\n",
    "    labels = []\n",
    "    classes = [lists for lists in os.walk(train_path)][0][1]    \n",
    "    for cls in classes:\n",
    "        file_path = os.path.join(train_path, cls, \"*g\")\n",
    "        for file in glob.glob(file_path):\n",
    "            image = cv2.imread(file)\n",
    "            image = image[288-250:288-35, 55:390]\n",
    "            image = cv2.resize(image, (int(215/5), int(215/5)), cv2.INTER_LINEAR)\n",
    "            label = np.zeros(len(classes))\n",
    "            label[classes.index(cls)] = 1.0\n",
    "            images.append(image)\n",
    "            labels.append(label) \n",
    "    images = np.array(images)\n",
    "    labels = np.array(labels)\n",
    "    return images, labels\n",
    "\n",
    "dataset = load_data_cnn(train_path)"
   ]
  },
  {
   "cell_type": "markdown",
   "metadata": {},
   "source": [
    "0 - normal <br>\n",
    "1 - pvc <br>\n",
    "2 - lbbb <br>\n",
    "3 - rbbb <br>\n",
    "4 - fusion <br>\n",
    "5 - paced"
   ]
  },
  {
   "cell_type": "code",
   "execution_count": 4,
   "metadata": {},
   "outputs": [],
   "source": [
    "X_train = []\n",
    "X_train.append(dataset[0][:80])\n",
    "X_train.append(dataset[0][100:180])\n",
    "X_train.append(dataset[0][200:280])\n",
    "X_train.append(dataset[0][300:380])\n",
    "X_train.append(dataset[0][400:480])\n",
    "X_train.append(dataset[0][500:580])\n",
    "X_train = [j for i in X_train for j in i]\n",
    "X_train = np.array(X_train)\n",
    "\n",
    "y_train = []\n",
    "y_train.append(dataset[1][:80])\n",
    "y_train.append(dataset[1][100:180])\n",
    "y_train.append(dataset[1][200:280])\n",
    "y_train.append(dataset[1][300:380])\n",
    "y_train.append(dataset[1][400:480])\n",
    "y_train.append(dataset[1][500:580])\n",
    "y_train = [j for i in y_train for j in i]\n",
    "y_train = np.array(y_train)\n",
    "\n",
    "X_test = []\n",
    "X_test.append(dataset[0][80:100])\n",
    "X_test.append(dataset[0][180:200])\n",
    "X_test.append(dataset[0][280:300])\n",
    "X_test.append(dataset[0][380:400])\n",
    "X_test.append(dataset[0][480:500])\n",
    "X_test.append(dataset[0][580:600])\n",
    "X_test = [j for i in X_test for j in i]\n",
    "X_test = np.array(X_test)\n",
    "\n",
    "y_test = []\n",
    "y_test.append(dataset[1][80:100])\n",
    "y_test.append(dataset[1][180:200])\n",
    "y_test.append(dataset[1][280:300])\n",
    "y_test.append(dataset[1][380:400])\n",
    "y_test.append(dataset[1][480:500])\n",
    "y_test.append(dataset[1][580:600])\n",
    "y_test = [j for i in y_test for j in i]\n",
    "y_test = np.array(y_test)\n",
    "\n",
    "y_test_label = []\n",
    "for i in range(120):\n",
    "    if i >= 100:\n",
    "        y_test_label.append(5)\n",
    "    elif i >= 80:\n",
    "        y_test_label.append(4)\n",
    "    elif i >= 60:\n",
    "        y_test_label.append(3)\n",
    "    elif i >= 40:\n",
    "        y_test_label.append(2)\n",
    "    elif i >= 20:\n",
    "        y_test_label.append(1)\n",
    "    else:\n",
    "        y_test_label.append(0)\n",
    "        "
   ]
  },
  {
   "cell_type": "code",
   "execution_count": 5,
   "metadata": {},
   "outputs": [],
   "source": [
    "input_shape = (int(215/5), int(215/5), 3)"
   ]
  },
  {
   "cell_type": "code",
   "execution_count": 6,
   "metadata": {},
   "outputs": [],
   "source": [
    "cnn_model = Sequential()\n",
    "\n",
    "cnn_model.add(Conv2D(64, (3, 3), input_shape=input_shape))\n",
    "cnn_model.add(BatchNormalization())\n",
    "cnn_model.add(Activation('relu'))\n",
    "cnn_model.add(MaxPooling2D(pool_size=(2, 2)))\n",
    "cnn_model.add(Dropout(0.25))\n",
    "\n",
    "cnn_model.add(Conv2D(32, (3, 3)))\n",
    "cnn_model.add(BatchNormalization())\n",
    "cnn_model.add(Activation('relu'))\n",
    "cnn_model.add(MaxPooling2D(pool_size=(2, 2)))\n",
    "cnn_model.add(Dropout(0.25))\n",
    "\n",
    "cnn_model.add(Conv2D(32, (3, 3)))\n",
    "cnn_model.add(BatchNormalization())\n",
    "cnn_model.add(Activation('relu'))\n",
    "cnn_model.add(MaxPooling2D(pool_size=(2, 2)))\n",
    "cnn_model.add(Dropout(0.25))\n",
    "\n",
    "cnn_model.add(Flatten())\n",
    "cnn_model.add(Dense(256, activation='relu'))\n",
    "cnn_model.add(Dropout(0.5))\n",
    "cnn_model.add(Dense(6, activation='softmax'))"
   ]
  },
  {
   "cell_type": "code",
   "execution_count": 7,
   "metadata": {},
   "outputs": [],
   "source": [
    "cnn_model.compile(optimizer=Adam(lr=0.0005, beta_1=0.9, beta_2=0.999), loss='categorical_crossentropy', metrics=['accuracy'])"
   ]
  },
  {
   "cell_type": "code",
   "execution_count": 8,
   "metadata": {},
   "outputs": [
    {
     "name": "stdout",
     "output_type": "stream",
     "text": [
      "Train on 432 samples, validate on 48 samples\n",
      "Epoch 1/50\n",
      "432/432 [==============================] - 2s 4ms/step - loss: 1.8225 - acc: 0.3796 - val_loss: 2.0538 - val_acc: 0.0000e+00\n",
      "Epoch 2/50\n",
      "432/432 [==============================] - 0s 605us/step - loss: 1.0172 - acc: 0.6435 - val_loss: 1.4372 - val_acc: 0.5000\n",
      "Epoch 3/50\n",
      "432/432 [==============================] - 0s 581us/step - loss: 0.7338 - acc: 0.7292 - val_loss: 1.2305 - val_acc: 0.6667\n",
      "Epoch 4/50\n",
      "432/432 [==============================] - 0s 675us/step - loss: 0.5422 - acc: 0.8148 - val_loss: 0.8282 - val_acc: 0.8542\n",
      "Epoch 5/50\n",
      "432/432 [==============================] - 0s 592us/step - loss: 0.4457 - acc: 0.8611 - val_loss: 0.6017 - val_acc: 0.8958\n",
      "Epoch 6/50\n",
      "432/432 [==============================] - 0s 580us/step - loss: 0.3597 - acc: 0.8796 - val_loss: 0.5816 - val_acc: 0.8750\n",
      "Epoch 7/50\n",
      "432/432 [==============================] - 0s 582us/step - loss: 0.2705 - acc: 0.9259 - val_loss: 0.7642 - val_acc: 0.7708\n",
      "Epoch 8/50\n",
      "432/432 [==============================] - 0s 589us/step - loss: 0.2744 - acc: 0.9213 - val_loss: 0.5545 - val_acc: 0.8542\n",
      "Epoch 9/50\n",
      "432/432 [==============================] - 0s 585us/step - loss: 0.2241 - acc: 0.9352 - val_loss: 0.4291 - val_acc: 0.8958\n",
      "Epoch 10/50\n",
      "432/432 [==============================] - 0s 597us/step - loss: 0.2032 - acc: 0.9236 - val_loss: 0.4024 - val_acc: 0.9167\n",
      "Epoch 11/50\n",
      "432/432 [==============================] - 0s 591us/step - loss: 0.1962 - acc: 0.9352 - val_loss: 0.3906 - val_acc: 0.9167\n",
      "Epoch 12/50\n",
      "432/432 [==============================] - 0s 666us/step - loss: 0.2023 - acc: 0.9306 - val_loss: 0.5536 - val_acc: 0.8125\n",
      "Epoch 13/50\n",
      "432/432 [==============================] - 0s 604us/step - loss: 0.2275 - acc: 0.9306 - val_loss: 0.5594 - val_acc: 0.8542\n",
      "Epoch 14/50\n",
      "432/432 [==============================] - 0s 577us/step - loss: 0.1453 - acc: 0.9606 - val_loss: 0.4213 - val_acc: 0.9167\n",
      "Epoch 15/50\n",
      "432/432 [==============================] - 0s 582us/step - loss: 0.1250 - acc: 0.9583 - val_loss: 0.3753 - val_acc: 0.9375\n",
      "Epoch 16/50\n",
      "432/432 [==============================] - 0s 587us/step - loss: 0.1531 - acc: 0.9421 - val_loss: 0.3502 - val_acc: 0.9375\n",
      "Epoch 17/50\n",
      "432/432 [==============================] - 0s 568us/step - loss: 0.0910 - acc: 0.9630 - val_loss: 0.5893 - val_acc: 0.8333\n",
      "Epoch 18/50\n",
      "432/432 [==============================] - 0s 684us/step - loss: 0.0885 - acc: 0.9676 - val_loss: 0.3460 - val_acc: 0.9375\n",
      "Epoch 19/50\n",
      "432/432 [==============================] - 0s 588us/step - loss: 0.1129 - acc: 0.9606 - val_loss: 0.3687 - val_acc: 0.9167\n",
      "Epoch 20/50\n",
      "432/432 [==============================] - 0s 587us/step - loss: 0.0845 - acc: 0.9745 - val_loss: 0.3014 - val_acc: 0.9375\n",
      "Epoch 21/50\n",
      "432/432 [==============================] - 0s 599us/step - loss: 0.0525 - acc: 0.9931 - val_loss: 0.2317 - val_acc: 0.9583\n",
      "Epoch 22/50\n",
      "432/432 [==============================] - 0s 664us/step - loss: 0.0943 - acc: 0.9676 - val_loss: 0.2376 - val_acc: 0.9583\n",
      "Epoch 23/50\n",
      "432/432 [==============================] - 0s 613us/step - loss: 0.0817 - acc: 0.9676 - val_loss: 0.1891 - val_acc: 0.9583\n",
      "Epoch 24/50\n",
      "432/432 [==============================] - 0s 590us/step - loss: 0.0852 - acc: 0.9722 - val_loss: 0.1711 - val_acc: 0.9583\n",
      "Epoch 25/50\n",
      "432/432 [==============================] - 0s 629us/step - loss: 0.0961 - acc: 0.9699 - val_loss: 0.2182 - val_acc: 0.9583\n",
      "Epoch 26/50\n",
      "432/432 [==============================] - 0s 596us/step - loss: 0.0621 - acc: 0.9699 - val_loss: 0.2303 - val_acc: 0.9583\n",
      "Epoch 27/50\n",
      "432/432 [==============================] - 0s 574us/step - loss: 0.0655 - acc: 0.9861 - val_loss: 0.2233 - val_acc: 0.9583\n",
      "Epoch 28/50\n",
      "432/432 [==============================] - 0s 594us/step - loss: 0.0526 - acc: 0.9838 - val_loss: 0.2804 - val_acc: 0.9583\n",
      "Epoch 29/50\n",
      "432/432 [==============================] - 0s 599us/step - loss: 0.0511 - acc: 0.9884 - val_loss: 0.2075 - val_acc: 0.9583\n",
      "Epoch 30/50\n",
      "432/432 [==============================] - 0s 581us/step - loss: 0.0634 - acc: 0.9745 - val_loss: 0.2929 - val_acc: 0.9375\n",
      "Epoch 31/50\n",
      "432/432 [==============================] - 0s 628us/step - loss: 0.0481 - acc: 0.9838 - val_loss: 0.2703 - val_acc: 0.9583\n",
      "Epoch 32/50\n",
      "432/432 [==============================] - 0s 616us/step - loss: 0.0535 - acc: 0.9838 - val_loss: 0.3333 - val_acc: 0.9375\n",
      "Epoch 33/50\n",
      "432/432 [==============================] - 0s 582us/step - loss: 0.0460 - acc: 0.9838 - val_loss: 0.2344 - val_acc: 0.9583\n",
      "Epoch 34/50\n",
      "432/432 [==============================] - 0s 574us/step - loss: 0.0300 - acc: 0.9931 - val_loss: 0.2336 - val_acc: 0.9583\n",
      "Epoch 35/50\n",
      "432/432 [==============================] - 0s 589us/step - loss: 0.0396 - acc: 0.9861 - val_loss: 0.2129 - val_acc: 0.9583\n",
      "Epoch 36/50\n",
      "432/432 [==============================] - 0s 595us/step - loss: 0.0394 - acc: 0.9907 - val_loss: 0.2181 - val_acc: 0.9583\n",
      "Epoch 37/50\n",
      "432/432 [==============================] - 0s 591us/step - loss: 0.0311 - acc: 0.9931 - val_loss: 0.1844 - val_acc: 0.9583\n",
      "Epoch 38/50\n",
      "432/432 [==============================] - 0s 583us/step - loss: 0.0326 - acc: 0.9884 - val_loss: 0.2574 - val_acc: 0.9583\n",
      "Epoch 39/50\n",
      "432/432 [==============================] - 0s 561us/step - loss: 0.0377 - acc: 0.9838 - val_loss: 0.2161 - val_acc: 0.9583\n",
      "Epoch 40/50\n",
      "432/432 [==============================] - 0s 677us/step - loss: 0.0350 - acc: 0.9861 - val_loss: 0.2069 - val_acc: 0.9583\n",
      "Epoch 41/50\n",
      "432/432 [==============================] - 0s 594us/step - loss: 0.0363 - acc: 0.9884 - val_loss: 0.2017 - val_acc: 0.9583\n",
      "Epoch 42/50\n",
      "432/432 [==============================] - 0s 610us/step - loss: 0.0270 - acc: 0.9907 - val_loss: 0.2435 - val_acc: 0.9583\n",
      "Epoch 43/50\n",
      "432/432 [==============================] - 0s 617us/step - loss: 0.0196 - acc: 0.9954 - val_loss: 0.1906 - val_acc: 0.9583\n",
      "Epoch 44/50\n",
      "432/432 [==============================] - 0s 592us/step - loss: 0.0234 - acc: 0.9977 - val_loss: 0.1895 - val_acc: 0.9583\n",
      "Epoch 45/50\n",
      "432/432 [==============================] - 0s 600us/step - loss: 0.0213 - acc: 0.9931 - val_loss: 0.2160 - val_acc: 0.9583\n",
      "Epoch 46/50\n",
      "432/432 [==============================] - 0s 595us/step - loss: 0.0210 - acc: 0.9954 - val_loss: 0.2914 - val_acc: 0.9583\n",
      "Epoch 47/50\n",
      "432/432 [==============================] - 0s 600us/step - loss: 0.0289 - acc: 0.9907 - val_loss: 0.2078 - val_acc: 0.9583\n",
      "Epoch 48/50\n",
      "432/432 [==============================] - 0s 582us/step - loss: 0.0243 - acc: 0.9977 - val_loss: 0.1737 - val_acc: 0.9583\n",
      "Epoch 49/50\n",
      "432/432 [==============================] - 0s 593us/step - loss: 0.0213 - acc: 0.9931 - val_loss: 0.2426 - val_acc: 0.9583\n",
      "Epoch 50/50\n",
      "432/432 [==============================] - 0s 609us/step - loss: 0.0205 - acc: 0.9931 - val_loss: 0.1837 - val_acc: 0.9583\n"
     ]
    }
   ],
   "source": [
    "classifier = cnn_model.fit(X_train, y_train, validation_split=0.1, epochs=50, batch_size=18, shuffle=True)"
   ]
  },
  {
   "cell_type": "code",
   "execution_count": 9,
   "metadata": {},
   "outputs": [
    {
     "name": "stdout",
     "output_type": "stream",
     "text": [
      "120/120 [==============================] - 0s 307us/step\n",
      "Loss = 0.014960017551978429\n",
      "Accuracy = 0.9916666666666667\n"
     ]
    }
   ],
   "source": [
    "loss, accuracy = cnn_model.evaluate(X_test, y_test)\n",
    "print(\"Loss = \"+str(loss))\n",
    "print(\"Accuracy = \"+str(accuracy))"
   ]
  },
  {
   "cell_type": "code",
   "execution_count": 16,
   "metadata": {},
   "outputs": [],
   "source": [
    "acc_values = cnn_model.history.history['acc']\n",
    "val_acc_values = cnn_model.history.history['val_acc']\n",
    "epochs = range(1, len(acc_values) + 1)\n",
    "plt.plot(epochs, acc_values, 'r', label='Training acc')\n",
    "plt.plot(epochs, val_acc_values, 'b', label='Validation acc')\n",
    "plt.title('Training and validation accuracy')\n",
    "plt.xlabel('Epochs')\n",
    "plt.ylabel('Accuracy')\n",
    "plt.legend()\n",
    "plt.show()"
   ]
  },
  {
   "cell_type": "code",
   "execution_count": 11,
   "metadata": {},
   "outputs": [],
   "source": [
    "predictions = cnn_model.predict_classes(X_test, batch_size=5)"
   ]
  },
  {
   "cell_type": "code",
   "execution_count": 12,
   "metadata": {},
   "outputs": [
    {
     "data": {
      "text/plain": [
       "array([0, 0, 0, 0, 0, 0, 0, 0, 0, 0, 0, 0, 0, 0, 0, 0, 0, 0, 0, 0, 1, 1,\n",
       "       1, 1, 1, 1, 1, 1, 1, 1, 1, 1, 1, 1, 1, 1, 1, 1, 1, 1, 2, 2, 2, 2,\n",
       "       2, 2, 2, 2, 2, 2, 2, 2, 2, 2, 2, 2, 2, 2, 2, 2, 3, 3, 3, 3, 1, 3,\n",
       "       3, 3, 3, 3, 3, 3, 3, 3, 3, 3, 3, 3, 3, 3, 4, 4, 4, 4, 4, 4, 4, 4,\n",
       "       4, 4, 4, 4, 4, 4, 4, 4, 4, 4, 4, 4, 5, 5, 5, 5, 5, 5, 5, 5, 5, 5,\n",
       "       5, 5, 5, 5, 5, 5, 5, 5, 5, 5])"
      ]
     },
     "execution_count": 12,
     "metadata": {},
     "output_type": "execute_result"
    }
   ],
   "source": [
    "predictions"
   ]
  },
  {
   "cell_type": "code",
   "execution_count": 13,
   "metadata": {},
   "outputs": [],
   "source": [
    "cn = confusion_matrix(y_test_label, predictions)"
   ]
  },
  {
   "cell_type": "code",
   "execution_count": 14,
   "metadata": {},
   "outputs": [
    {
     "name": "stdout",
     "output_type": "stream",
     "text": [
      "Confusion Matrix\n"
     ]
    },
    {
     "data": {
      "text/plain": [
       "array([[20,  0,  0,  0,  0,  0],\n",
       "       [ 0, 20,  0,  0,  0,  0],\n",
       "       [ 0,  0, 20,  0,  0,  0],\n",
       "       [ 0,  1,  0, 19,  0,  0],\n",
       "       [ 0,  0,  0,  0, 20,  0],\n",
       "       [ 0,  0,  0,  0,  0, 20]])"
      ]
     },
     "execution_count": 14,
     "metadata": {},
     "output_type": "execute_result"
    }
   ],
   "source": [
    "print (\"Confusion Matrix\")\n",
    "cn"
   ]
  },
  {
   "cell_type": "code",
   "execution_count": 15,
   "metadata": {},
   "outputs": [],
   "source": [
    "cnn_model.save(\"../models/cnn_6labels_1.h5\")"
   ]
  }
 ],
 "metadata": {
  "kernelspec": {
   "display_name": "Python 3",
   "language": "python",
   "name": "python3"
  },
  "language_info": {
   "codemirror_mode": {
    "name": "ipython",
    "version": 3
   },
   "file_extension": ".py",
   "mimetype": "text/x-python",
   "name": "python",
   "nbconvert_exporter": "python",
   "pygments_lexer": "ipython3",
   "version": "3.6.5"
  }
 },
 "nbformat": 4,
 "nbformat_minor": 2
}
