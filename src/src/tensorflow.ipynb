{
 "cells": [
  {
   "cell_type": "markdown",
   "metadata": {},
   "source": [
    "# Train"
   ]
  },
  {
   "cell_type": "code",
   "execution_count": 53,
   "metadata": {},
   "outputs": [],
   "source": [
    "import os\n",
    "os.environ['TF_CPP_MIN_LOG_LEVEL'] = '3'\n",
    "import os, glob, cv2\n",
    "import numpy as np\n",
    "from sklearn.metrics import confusion_matrix\n",
    "import tensorflow as tf\n",
    "from keras.models import Sequential\n",
    "from keras.layers import Dense, Conv2D, MaxPooling2D, Flatten, Dropout\n",
    "from keras.optimizers import Adam"
   ]
  },
  {
   "cell_type": "code",
   "execution_count": 4,
   "metadata": {},
   "outputs": [],
   "source": [
    "train_path = '../dataset/images/'\n",
    "classes = [\"100\", \"118\", \"217\"]"
   ]
  },
  {
   "cell_type": "code",
   "execution_count": 25,
   "metadata": {},
   "outputs": [],
   "source": [
    "def load_data_cnn(train_path):\n",
    "    images = []\n",
    "    labels = []\n",
    "    classes = [lists for lists in os.walk(train_path)][0][1]    \n",
    "    for cls in classes:\n",
    "        file_path = os.path.join(train_path, cls, \"*g\")\n",
    "        for file in glob.glob(file_path):\n",
    "            image = cv2.imread(file)\n",
    "            image = image[288-250:288-35, 55:390]\n",
    "            image = cv2.resize(image, (int(215/5), int(215/5)), cv2.INTER_LINEAR)\n",
    "            label = np.zeros(len(classes))\n",
    "            label[classes.index(cls)] = 1.0\n",
    "            images.append(image)\n",
    "            labels.append(label) \n",
    "    images = np.array(images)\n",
    "    labels = np.array(labels)\n",
    "    return images, labels\n",
    "\n",
    "dataset = load_data_cnn(train_path)"
   ]
  },
  {
   "cell_type": "code",
   "execution_count": 74,
   "metadata": {},
   "outputs": [],
   "source": [
    "X_train = []\n",
    "X_train.append(dataset[0][:80])\n",
    "X_train.append(dataset[0][100:180])\n",
    "X_train.append(dataset[0][200:280])\n",
    "X_train = [j for i in X_train for j in i]\n",
    "X_train = np.array(X_train)\n",
    "\n",
    "y_train = []\n",
    "y_train.append(dataset[1][:80])\n",
    "y_train.append(dataset[1][100:180])\n",
    "y_train.append(dataset[1][200:280])\n",
    "y_train = [j for i in y_train for j in i]\n",
    "y_train = np.array(y_train)\n",
    "\n",
    "X_test = []\n",
    "X_test.append(dataset[0][80:100])\n",
    "X_test.append(dataset[0][180:200])\n",
    "X_test.append(dataset[0][280:300])\n",
    "X_test = [j for i in X_test for j in i]\n",
    "X_test = np.array(X_test)\n",
    "\n",
    "y_test = []\n",
    "y_test.append(dataset[1][80:100])\n",
    "y_test.append(dataset[1][180:200])\n",
    "y_test.append(dataset[1][280:300])\n",
    "y_test = [j for i in y_test for j in i]\n",
    "y_test = np.array(y_test)\n",
    "\n",
    "y_test_label = []\n",
    "for i in range(60):\n",
    "    if i >= 40:\n",
    "        y_test_label.append(2)\n",
    "    elif i >= 20:\n",
    "        y_test_label.append(1)\n",
    "    else:\n",
    "        y_test_label.append(0)\n",
    "        "
   ]
  },
  {
   "cell_type": "code",
   "execution_count": 77,
   "metadata": {},
   "outputs": [
    {
     "data": {
      "text/plain": [
       "(43, 43, 3)"
      ]
     },
     "execution_count": 77,
     "metadata": {},
     "output_type": "execute_result"
    }
   ],
   "source": [
    "X_train[0].shape"
   ]
  },
  {
   "cell_type": "code",
   "execution_count": 29,
   "metadata": {},
   "outputs": [],
   "source": [
    "input_shape = (int(215/5), int(215/5), 3)"
   ]
  },
  {
   "cell_type": "code",
   "execution_count": 46,
   "metadata": {},
   "outputs": [],
   "source": [
    "cnn_model = Sequential()\n",
    "\n",
    "cnn_model.add(Conv2D(64, (3, 3), padding='same', activation='relu', input_shape=input_shape))\n",
    "cnn_model.add(Conv2D(64, (3, 3), activation='relu'))\n",
    "cnn_model.add(MaxPooling2D(pool_size=(2, 2)))\n",
    "cnn_model.add(Dropout(0.25))\n",
    "\n",
    "cnn_model.add(Conv2D(32, (3, 3), padding='same', activation='relu'))\n",
    "cnn_model.add(Conv2D(32, (3, 3), activation='relu'))\n",
    "cnn_model.add(MaxPooling2D(pool_size=(2, 2)))\n",
    "cnn_model.add(Dropout(0.25))\n",
    "\n",
    "cnn_model.add(Conv2D(32, (3, 3), padding='same', activation='relu'))\n",
    "cnn_model.add(Conv2D(32, (3, 3), activation='relu'))\n",
    "cnn_model.add(MaxPooling2D(pool_size=(2, 2)))\n",
    "cnn_model.add(Dropout(0.25))\n",
    "\n",
    "cnn_model.add(Flatten())\n",
    "cnn_model.add(Dense(256, activation='relu'))\n",
    "cnn_model.add(Dropout(0.5))\n",
    "cnn_model.add(Dense(3, activation='softmax'))"
   ]
  },
  {
   "cell_type": "code",
   "execution_count": 47,
   "metadata": {},
   "outputs": [],
   "source": [
    "cnn_model.compile(optimizer=Adam(lr=0.0001), loss='categorical_crossentropy', metrics=['accuracy'])"
   ]
  },
  {
   "cell_type": "code",
   "execution_count": 50,
   "metadata": {
    "scrolled": true
   },
   "outputs": [
    {
     "name": "stdout",
     "output_type": "stream",
     "text": [
      "Train on 216 samples, validate on 24 samples\n",
      "Epoch 1/60\n",
      "216/216 [==============================] - 2s 7ms/step - loss: 1.0487 - acc: 0.4954 - val_loss: 1.0718 - val_acc: 0.2917\n",
      "Epoch 2/60\n",
      "216/216 [==============================] - 1s 7ms/step - loss: 1.0558 - acc: 0.4815 - val_loss: 0.9697 - val_acc: 0.8333\n",
      "Epoch 3/60\n",
      "216/216 [==============================] - 1s 7ms/step - loss: 0.9538 - acc: 0.5741 - val_loss: 0.7202 - val_acc: 1.0000\n",
      "Epoch 4/60\n",
      "216/216 [==============================] - 2s 7ms/step - loss: 0.8760 - acc: 0.5926 - val_loss: 0.5007 - val_acc: 1.0000\n",
      "Epoch 5/60\n",
      "216/216 [==============================] - 2s 7ms/step - loss: 0.6912 - acc: 0.7407 - val_loss: 0.3928 - val_acc: 1.0000\n",
      "Epoch 6/60\n",
      "216/216 [==============================] - 2s 7ms/step - loss: 0.6389 - acc: 0.7546 - val_loss: 0.2641 - val_acc: 1.0000\n",
      "Epoch 7/60\n",
      "216/216 [==============================] - 2s 7ms/step - loss: 0.5591 - acc: 0.7963 - val_loss: 0.2061 - val_acc: 1.0000\n",
      "Epoch 8/60\n",
      "216/216 [==============================] - 2s 7ms/step - loss: 0.4466 - acc: 0.8519 - val_loss: 0.1337 - val_acc: 1.0000\n",
      "Epoch 9/60\n",
      "216/216 [==============================] - 2s 7ms/step - loss: 0.2957 - acc: 0.9074 - val_loss: 0.0942 - val_acc: 1.0000\n",
      "Epoch 10/60\n",
      "216/216 [==============================] - 2s 7ms/step - loss: 0.2605 - acc: 0.9306 - val_loss: 0.0793 - val_acc: 1.0000\n",
      "Epoch 11/60\n",
      "216/216 [==============================] - 2s 8ms/step - loss: 0.2457 - acc: 0.9120 - val_loss: 0.0341 - val_acc: 1.0000\n",
      "Epoch 12/60\n",
      "216/216 [==============================] - 2s 9ms/step - loss: 0.2852 - acc: 0.9120 - val_loss: 0.0652 - val_acc: 1.0000\n",
      "Epoch 13/60\n",
      "216/216 [==============================] - 2s 9ms/step - loss: 0.1749 - acc: 0.9583 - val_loss: 0.0253 - val_acc: 1.0000\n",
      "Epoch 14/60\n",
      "216/216 [==============================] - 2s 9ms/step - loss: 0.2260 - acc: 0.9444 - val_loss: 0.0510 - val_acc: 1.0000\n",
      "Epoch 15/60\n",
      "216/216 [==============================] - 2s 9ms/step - loss: 0.2253 - acc: 0.9306 - val_loss: 0.0281 - val_acc: 1.0000\n",
      "Epoch 16/60\n",
      "216/216 [==============================] - 2s 9ms/step - loss: 0.1841 - acc: 0.9306 - val_loss: 0.0389 - val_acc: 1.0000\n",
      "Epoch 17/60\n",
      "216/216 [==============================] - 2s 10ms/step - loss: 0.2158 - acc: 0.9306 - val_loss: 0.0353 - val_acc: 1.0000\n",
      "Epoch 18/60\n",
      "216/216 [==============================] - 2s 9ms/step - loss: 0.1698 - acc: 0.9352 - val_loss: 0.0134 - val_acc: 1.0000\n",
      "Epoch 19/60\n",
      "216/216 [==============================] - 2s 9ms/step - loss: 0.1879 - acc: 0.9352 - val_loss: 0.0235 - val_acc: 1.0000\n",
      "Epoch 20/60\n",
      "216/216 [==============================] - 2s 9ms/step - loss: 0.1480 - acc: 0.9537 - val_loss: 0.0351 - val_acc: 1.0000\n",
      "Epoch 21/60\n",
      "216/216 [==============================] - 2s 9ms/step - loss: 0.1470 - acc: 0.9630 - val_loss: 0.0143 - val_acc: 1.0000\n",
      "Epoch 22/60\n",
      "216/216 [==============================] - 2s 9ms/step - loss: 0.1229 - acc: 0.9630 - val_loss: 0.0084 - val_acc: 1.0000\n",
      "Epoch 23/60\n",
      "216/216 [==============================] - 2s 9ms/step - loss: 0.1718 - acc: 0.9491 - val_loss: 0.0135 - val_acc: 1.0000\n",
      "Epoch 24/60\n",
      "216/216 [==============================] - 2s 9ms/step - loss: 0.1311 - acc: 0.9769 - val_loss: 0.0146 - val_acc: 1.0000\n",
      "Epoch 25/60\n",
      "216/216 [==============================] - 2s 9ms/step - loss: 0.1254 - acc: 0.9630 - val_loss: 0.0200 - val_acc: 1.0000\n",
      "Epoch 26/60\n",
      "216/216 [==============================] - 2s 9ms/step - loss: 0.1170 - acc: 0.9722 - val_loss: 0.0203 - val_acc: 1.0000\n",
      "Epoch 27/60\n",
      "216/216 [==============================] - 2s 10ms/step - loss: 0.1085 - acc: 0.9815 - val_loss: 0.0083 - val_acc: 1.0000\n",
      "Epoch 28/60\n",
      "216/216 [==============================] - 2s 9ms/step - loss: 0.1156 - acc: 0.9630 - val_loss: 0.0063 - val_acc: 1.0000\n",
      "Epoch 29/60\n",
      "216/216 [==============================] - 2s 9ms/step - loss: 0.1489 - acc: 0.9491 - val_loss: 0.0103 - val_acc: 1.0000\n",
      "Epoch 30/60\n",
      "216/216 [==============================] - 2s 9ms/step - loss: 0.0967 - acc: 0.9676 - val_loss: 0.0166 - val_acc: 1.0000\n",
      "Epoch 31/60\n",
      "216/216 [==============================] - 2s 9ms/step - loss: 0.1245 - acc: 0.9583 - val_loss: 0.0125 - val_acc: 1.0000\n",
      "Epoch 32/60\n",
      "216/216 [==============================] - 2s 9ms/step - loss: 0.0771 - acc: 0.9769 - val_loss: 0.0102 - val_acc: 1.0000\n",
      "Epoch 33/60\n",
      "216/216 [==============================] - 2s 9ms/step - loss: 0.0814 - acc: 0.9630 - val_loss: 0.0050 - val_acc: 1.0000\n",
      "Epoch 34/60\n",
      "216/216 [==============================] - 2s 9ms/step - loss: 0.0791 - acc: 0.9815 - val_loss: 0.0141 - val_acc: 1.0000\n",
      "Epoch 35/60\n",
      "216/216 [==============================] - 2s 9ms/step - loss: 0.1446 - acc: 0.9398 - val_loss: 0.0061 - val_acc: 1.0000\n",
      "Epoch 36/60\n",
      "216/216 [==============================] - 2s 9ms/step - loss: 0.0584 - acc: 0.9769 - val_loss: 0.0040 - val_acc: 1.0000\n",
      "Epoch 37/60\n",
      "216/216 [==============================] - 2s 9ms/step - loss: 0.1244 - acc: 0.9676 - val_loss: 0.0170 - val_acc: 1.0000\n",
      "Epoch 38/60\n",
      "216/216 [==============================] - 2s 9ms/step - loss: 0.1128 - acc: 0.9630 - val_loss: 0.0236 - val_acc: 1.0000\n",
      "Epoch 39/60\n",
      "216/216 [==============================] - 2s 9ms/step - loss: 0.0808 - acc: 0.9769 - val_loss: 0.0163 - val_acc: 1.0000\n",
      "Epoch 40/60\n",
      "216/216 [==============================] - 2s 9ms/step - loss: 0.0862 - acc: 0.9769 - val_loss: 0.0154 - val_acc: 1.0000\n",
      "Epoch 41/60\n",
      "216/216 [==============================] - 2s 9ms/step - loss: 0.1142 - acc: 0.9722 - val_loss: 0.0164 - val_acc: 1.0000\n",
      "Epoch 42/60\n",
      "216/216 [==============================] - 2s 9ms/step - loss: 0.0859 - acc: 0.9722 - val_loss: 0.0061 - val_acc: 1.0000\n",
      "Epoch 43/60\n",
      "216/216 [==============================] - 2s 9ms/step - loss: 0.0492 - acc: 0.9815 - val_loss: 0.0032 - val_acc: 1.0000\n",
      "Epoch 44/60\n",
      "216/216 [==============================] - 2s 9ms/step - loss: 0.0449 - acc: 0.9815 - val_loss: 0.0020 - val_acc: 1.0000\n",
      "Epoch 45/60\n",
      "216/216 [==============================] - 2s 9ms/step - loss: 0.0807 - acc: 0.9861 - val_loss: 0.0025 - val_acc: 1.0000\n",
      "Epoch 46/60\n",
      "216/216 [==============================] - 2s 9ms/step - loss: 0.0769 - acc: 0.9722 - val_loss: 0.0035 - val_acc: 1.0000\n",
      "Epoch 47/60\n",
      "216/216 [==============================] - 2s 9ms/step - loss: 0.0576 - acc: 0.9769 - val_loss: 0.0028 - val_acc: 1.0000\n",
      "Epoch 48/60\n",
      "216/216 [==============================] - 2s 9ms/step - loss: 0.0779 - acc: 0.9722 - val_loss: 0.0050 - val_acc: 1.0000\n",
      "Epoch 49/60\n",
      "216/216 [==============================] - 2s 9ms/step - loss: 0.0764 - acc: 0.9769 - val_loss: 0.0125 - val_acc: 1.0000\n",
      "Epoch 50/60\n",
      "216/216 [==============================] - 2s 9ms/step - loss: 0.0731 - acc: 0.9815 - val_loss: 0.0090 - val_acc: 1.0000\n",
      "Epoch 51/60\n",
      "216/216 [==============================] - 2s 9ms/step - loss: 0.0546 - acc: 0.9861 - val_loss: 0.0042 - val_acc: 1.0000\n",
      "Epoch 52/60\n",
      "216/216 [==============================] - 2s 9ms/step - loss: 0.0905 - acc: 0.9815 - val_loss: 0.0045 - val_acc: 1.0000\n",
      "Epoch 53/60\n",
      "216/216 [==============================] - 2s 9ms/step - loss: 0.0391 - acc: 0.9815 - val_loss: 0.0035 - val_acc: 1.0000\n",
      "Epoch 54/60\n",
      "216/216 [==============================] - 2s 9ms/step - loss: 0.0473 - acc: 0.9815 - val_loss: 0.0045 - val_acc: 1.0000\n",
      "Epoch 55/60\n",
      "216/216 [==============================] - 2s 9ms/step - loss: 0.0478 - acc: 0.9815 - val_loss: 0.0050 - val_acc: 1.0000\n",
      "Epoch 56/60\n",
      "216/216 [==============================] - 2s 9ms/step - loss: 0.0521 - acc: 0.9769 - val_loss: 0.0041 - val_acc: 1.0000\n",
      "Epoch 57/60\n",
      "216/216 [==============================] - 2s 9ms/step - loss: 0.0447 - acc: 0.9907 - val_loss: 0.0026 - val_acc: 1.0000\n",
      "Epoch 58/60\n",
      "216/216 [==============================] - 2s 9ms/step - loss: 0.0322 - acc: 0.9954 - val_loss: 0.0012 - val_acc: 1.0000\n",
      "Epoch 59/60\n",
      "216/216 [==============================] - 2s 9ms/step - loss: 0.0474 - acc: 0.9815 - val_loss: 0.0025 - val_acc: 1.0000\n",
      "Epoch 60/60\n",
      "216/216 [==============================] - 2s 9ms/step - loss: 0.0486 - acc: 0.9769 - val_loss: 0.0031 - val_acc: 1.0000\n"
     ]
    }
   ],
   "source": [
    "classifier = cnn_model.fit(X_train, y_train, validation_split=0.1, epochs=60, batch_size=9)"
   ]
  },
  {
   "cell_type": "code",
   "execution_count": 70,
   "metadata": {},
   "outputs": [
    {
     "name": "stdout",
     "output_type": "stream",
     "text": [
      "60/60 [==============================] - 0s 2ms/step\n",
      "Loss = 0.004240412854899963\n",
      "Accuracy = 1.0\n"
     ]
    }
   ],
   "source": [
    "loss, accuracy = cnn_model.evaluate(X_test, y_test)\n",
    "print(\"Loss = \"+str(loss))\n",
    "print(\"Accuracy = \"+str(accuracy))"
   ]
  },
  {
   "cell_type": "code",
   "execution_count": 51,
   "metadata": {},
   "outputs": [],
   "source": [
    "predictions = cnn_model.predict_classes(X_test, batch_size=5)"
   ]
  },
  {
   "cell_type": "code",
   "execution_count": 71,
   "metadata": {},
   "outputs": [
    {
     "data": {
      "text/plain": [
       "array([0, 0, 0, 0, 0, 0, 0, 0, 0, 0, 0, 0, 0, 0, 0, 0, 0, 0, 0, 0, 1, 1,\n",
       "       1, 1, 1, 1, 1, 1, 1, 1, 1, 1, 1, 1, 1, 1, 1, 1, 1, 1, 2, 2, 2, 2,\n",
       "       2, 2, 2, 2, 2, 2, 2, 2, 2, 2, 2, 2, 2, 2, 2, 2])"
      ]
     },
     "execution_count": 71,
     "metadata": {},
     "output_type": "execute_result"
    }
   ],
   "source": [
    "predictions"
   ]
  },
  {
   "cell_type": "code",
   "execution_count": 78,
   "metadata": {},
   "outputs": [],
   "source": [
    "cn = confusion_matrix(y_test_label, predictions)"
   ]
  },
  {
   "cell_type": "code",
   "execution_count": 80,
   "metadata": {},
   "outputs": [
    {
     "name": "stdout",
     "output_type": "stream",
     "text": [
      "Confusion Matrix\n"
     ]
    },
    {
     "data": {
      "text/plain": [
       "array([[20,  0,  0],\n",
       "       [ 0, 20,  0],\n",
       "       [ 0,  0, 20]])"
      ]
     },
     "execution_count": 80,
     "metadata": {},
     "output_type": "execute_result"
    }
   ],
   "source": [
    "print (\"Confusion Matrix\")\n",
    "cn"
   ]
  },
  {
   "cell_type": "code",
   "execution_count": 81,
   "metadata": {},
   "outputs": [],
   "source": [
    "cnn_model.save(\"../models/cnn_3labels_1.h5\")"
   ]
  },
  {
   "cell_type": "markdown",
   "metadata": {},
   "source": [
    "# Test"
   ]
  },
  {
   "cell_type": "code",
   "execution_count": 82,
   "metadata": {},
   "outputs": [],
   "source": [
    "from keras.models import load_model"
   ]
  },
  {
   "cell_type": "code",
   "execution_count": 83,
   "metadata": {},
   "outputs": [],
   "source": [
    "trained_model = load_model(\"../models/cnn_3labels_1.h5\")"
   ]
  },
  {
   "cell_type": "code",
   "execution_count": 84,
   "metadata": {},
   "outputs": [
    {
     "name": "stdout",
     "output_type": "stream",
     "text": [
      "_________________________________________________________________\n",
      "Layer (type)                 Output Shape              Param #   \n",
      "=================================================================\n",
      "conv2d_43 (Conv2D)           (None, 43, 43, 64)        1792      \n",
      "_________________________________________________________________\n",
      "conv2d_44 (Conv2D)           (None, 41, 41, 64)        36928     \n",
      "_________________________________________________________________\n",
      "max_pooling2d_22 (MaxPooling (None, 20, 20, 64)        0         \n",
      "_________________________________________________________________\n",
      "dropout_29 (Dropout)         (None, 20, 20, 64)        0         \n",
      "_________________________________________________________________\n",
      "conv2d_45 (Conv2D)           (None, 20, 20, 32)        18464     \n",
      "_________________________________________________________________\n",
      "conv2d_46 (Conv2D)           (None, 18, 18, 32)        9248      \n",
      "_________________________________________________________________\n",
      "max_pooling2d_23 (MaxPooling (None, 9, 9, 32)          0         \n",
      "_________________________________________________________________\n",
      "dropout_30 (Dropout)         (None, 9, 9, 32)          0         \n",
      "_________________________________________________________________\n",
      "conv2d_47 (Conv2D)           (None, 9, 9, 32)          9248      \n",
      "_________________________________________________________________\n",
      "conv2d_48 (Conv2D)           (None, 7, 7, 32)          9248      \n",
      "_________________________________________________________________\n",
      "max_pooling2d_24 (MaxPooling (None, 3, 3, 32)          0         \n",
      "_________________________________________________________________\n",
      "dropout_31 (Dropout)         (None, 3, 3, 32)          0         \n",
      "_________________________________________________________________\n",
      "flatten_8 (Flatten)          (None, 288)               0         \n",
      "_________________________________________________________________\n",
      "dense_15 (Dense)             (None, 256)               73984     \n",
      "_________________________________________________________________\n",
      "dropout_32 (Dropout)         (None, 256)               0         \n",
      "_________________________________________________________________\n",
      "dense_16 (Dense)             (None, 3)                 771       \n",
      "=================================================================\n",
      "Total params: 159,683\n",
      "Trainable params: 159,683\n",
      "Non-trainable params: 0\n",
      "_________________________________________________________________\n"
     ]
    }
   ],
   "source": [
    "trained_model.summary()"
   ]
  },
  {
   "cell_type": "code",
   "execution_count": null,
   "metadata": {},
   "outputs": [],
   "source": []
  }
 ],
 "metadata": {
  "kernelspec": {
   "display_name": "Python 3",
   "language": "python",
   "name": "python3"
  },
  "language_info": {
   "codemirror_mode": {
    "name": "ipython",
    "version": 3
   },
   "file_extension": ".py",
   "mimetype": "text/x-python",
   "name": "python",
   "nbconvert_exporter": "python",
   "pygments_lexer": "ipython3",
   "version": "3.6.5"
  }
 },
 "nbformat": 4,
 "nbformat_minor": 2
}
