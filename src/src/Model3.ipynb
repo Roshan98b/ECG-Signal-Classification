{
 "cells": [
  {
   "cell_type": "code",
   "execution_count": 42,
   "metadata": {},
   "outputs": [],
   "source": [
    "%matplotlib tk\n",
    "import os\n",
    "os.environ['TF_CPP_MIN_LOG_LEVEL'] = '3'\n",
    "import os, glob, cv2\n",
    "import numpy as np\n",
    "from sklearn.metrics import confusion_matrix\n",
    "import tensorflow as tf\n",
    "import matplotlib.pyplot as plt\n",
    "from keras.models import Sequential\n",
    "from keras.layers import Dense, Conv2D, MaxPooling2D, Flatten, Dropout, BatchNormalization, Activation\n",
    "from keras.optimizers import Adam"
   ]
  },
  {
   "cell_type": "code",
   "execution_count": 37,
   "metadata": {},
   "outputs": [],
   "source": [
    "train_path = '../dataset/images-full/'\n",
    "classes = [\"100\", \"106\", \"109\", \"118\", \"217\"]"
   ]
  },
  {
   "cell_type": "code",
   "execution_count": 3,
   "metadata": {},
   "outputs": [],
   "source": [
    "def load_data_cnn(train_path):\n",
    "    images = []\n",
    "    labels = []\n",
    "    classes = [lists for lists in os.walk(train_path)][0][1]    \n",
    "    for cls in classes:\n",
    "        file_path = os.path.join(train_path, cls, \"*g\")\n",
    "        for file in glob.glob(file_path):\n",
    "            image = cv2.imread(file)\n",
    "            image = image[288-250:288-35, 55:390]\n",
    "            image = cv2.resize(image, (int(215/5), int(215/5)), cv2.INTER_LINEAR)\n",
    "            label = np.zeros(len(classes))\n",
    "            label[classes.index(cls)] = 1.0\n",
    "            images.append(image)\n",
    "            labels.append(label) \n",
    "    images = np.array(images)\n",
    "    labels = np.array(labels)\n",
    "    return images, labels\n",
    "\n",
    "dataset = load_data_cnn(train_path)"
   ]
  },
  {
   "cell_type": "markdown",
   "metadata": {},
   "source": [
    "0 - normal <br>\n",
    "1 - pvc <br>\n",
    "2 - lbbb <br>\n",
    "3 - rbbb <br>\n",
    "4 - paced"
   ]
  },
  {
   "cell_type": "code",
   "execution_count": 4,
   "metadata": {},
   "outputs": [],
   "source": [
    "X_train = []\n",
    "X_train.append(dataset[0][:80])\n",
    "X_train.append(dataset[0][100:180])\n",
    "X_train.append(dataset[0][200:280])\n",
    "X_train.append(dataset[0][300:380])\n",
    "X_train.append(dataset[0][400:480])\n",
    "X_train = [j for i in X_train for j in i]\n",
    "X_train = np.array(X_train)\n",
    "\n",
    "y_train = []\n",
    "y_train.append(dataset[1][:80])\n",
    "y_train.append(dataset[1][100:180])\n",
    "y_train.append(dataset[1][200:280])\n",
    "y_train.append(dataset[1][300:380])\n",
    "y_train.append(dataset[1][400:480])\n",
    "y_train = [j for i in y_train for j in i]\n",
    "y_train = np.array(y_train)\n",
    "\n",
    "X_test = []\n",
    "X_test.append(dataset[0][80:100])\n",
    "X_test.append(dataset[0][180:200])\n",
    "X_test.append(dataset[0][280:300])\n",
    "X_test.append(dataset[0][380:400])\n",
    "X_test.append(dataset[0][480:500])\n",
    "X_test = [j for i in X_test for j in i]\n",
    "X_test = np.array(X_test)\n",
    "\n",
    "y_test = []\n",
    "y_test.append(dataset[1][80:100])\n",
    "y_test.append(dataset[1][180:200])\n",
    "y_test.append(dataset[1][280:300])\n",
    "y_test.append(dataset[1][380:400])\n",
    "y_test.append(dataset[1][480:500])\n",
    "y_test = [j for i in y_test for j in i]\n",
    "y_test = np.array(y_test)\n",
    "\n",
    "y_test_label = []\n",
    "for i in range(100):\n",
    "    if i >= 80:\n",
    "        y_test_label.append(4)\n",
    "    elif i >= 60:\n",
    "        y_test_label.append(3)\n",
    "    elif i >= 40:\n",
    "        y_test_label.append(2)\n",
    "    elif i >= 20:\n",
    "        y_test_label.append(1)\n",
    "    else:\n",
    "        y_test_label.append(0)\n",
    "        "
   ]
  },
  {
   "cell_type": "code",
   "execution_count": 5,
   "metadata": {},
   "outputs": [],
   "source": [
    "input_shape = (int(215/5), int(215/5), 3)"
   ]
  },
  {
   "cell_type": "code",
   "execution_count": 6,
   "metadata": {},
   "outputs": [],
   "source": [
    "cnn_model = Sequential()\n",
    "\n",
    "cnn_model.add(Conv2D(64, (3, 3), input_shape=input_shape))\n",
    "cnn_model.add(BatchNormalization())\n",
    "cnn_model.add(Activation('relu'))\n",
    "cnn_model.add(MaxPooling2D(pool_size=(2, 2)))\n",
    "cnn_model.add(Dropout(0.25))\n",
    "\n",
    "cnn_model.add(Conv2D(32, (3, 3)))\n",
    "cnn_model.add(BatchNormalization())\n",
    "cnn_model.add(Activation('relu'))\n",
    "cnn_model.add(MaxPooling2D(pool_size=(2, 2)))\n",
    "cnn_model.add(Dropout(0.25))\n",
    "\n",
    "cnn_model.add(Conv2D(32, (3, 3)))\n",
    "cnn_model.add(BatchNormalization())\n",
    "cnn_model.add(Activation('relu'))\n",
    "cnn_model.add(MaxPooling2D(pool_size=(2, 2)))\n",
    "cnn_model.add(Dropout(0.25))\n",
    "\n",
    "cnn_model.add(Flatten())\n",
    "cnn_model.add(Dense(256, activation='relu'))\n",
    "cnn_model.add(Dropout(0.5))\n",
    "cnn_model.add(Dense(5, activation='softmax'))"
   ]
  },
  {
   "cell_type": "code",
   "execution_count": 7,
   "metadata": {},
   "outputs": [],
   "source": [
    "cnn_model.compile(optimizer=Adam(lr=0.001), loss='categorical_crossentropy', metrics=['accuracy'])"
   ]
  },
  {
   "cell_type": "code",
   "execution_count": 8,
   "metadata": {},
   "outputs": [
    {
     "name": "stdout",
     "output_type": "stream",
     "text": [
      "Train on 360 samples, validate on 40 samples\n",
      "Epoch 1/30\n",
      "360/360 [==============================] - 2s 4ms/step - loss: 1.2437 - acc: 0.5500 - val_loss: 1.0559 - val_acc: 0.3000\n",
      "Epoch 2/30\n",
      "360/360 [==============================] - 0s 945us/step - loss: 0.5401 - acc: 0.8167 - val_loss: 0.2989 - val_acc: 0.9000\n",
      "Epoch 3/30\n",
      "360/360 [==============================] - 0s 939us/step - loss: 0.2911 - acc: 0.9139 - val_loss: 0.1929 - val_acc: 0.9500\n",
      "Epoch 4/30\n",
      "360/360 [==============================] - 0s 1ms/step - loss: 0.1955 - acc: 0.9333 - val_loss: 0.0912 - val_acc: 0.9750\n",
      "Epoch 5/30\n",
      "360/360 [==============================] - 0s 930us/step - loss: 0.1842 - acc: 0.9389 - val_loss: 0.0459 - val_acc: 1.0000\n",
      "Epoch 6/30\n",
      "360/360 [==============================] - 0s 943us/step - loss: 0.1057 - acc: 0.9722 - val_loss: 0.1267 - val_acc: 0.9750\n",
      "Epoch 7/30\n",
      "360/360 [==============================] - 0s 1ms/step - loss: 0.1086 - acc: 0.9667 - val_loss: 0.0215 - val_acc: 1.0000\n",
      "Epoch 8/30\n",
      "360/360 [==============================] - 0s 960us/step - loss: 0.1039 - acc: 0.9667 - val_loss: 0.0116 - val_acc: 1.0000\n",
      "Epoch 9/30\n",
      "360/360 [==============================] - 0s 965us/step - loss: 0.0739 - acc: 0.9778 - val_loss: 0.0288 - val_acc: 0.9750\n",
      "Epoch 10/30\n",
      "360/360 [==============================] - 0s 954us/step - loss: 0.0433 - acc: 0.9917 - val_loss: 0.0262 - val_acc: 1.0000\n",
      "Epoch 11/30\n",
      "360/360 [==============================] - 0s 953us/step - loss: 0.0556 - acc: 0.9806 - val_loss: 0.0144 - val_acc: 1.0000\n",
      "Epoch 12/30\n",
      "360/360 [==============================] - 0s 924us/step - loss: 0.0295 - acc: 0.9944 - val_loss: 0.0204 - val_acc: 1.0000\n",
      "Epoch 13/30\n",
      "360/360 [==============================] - 0s 929us/step - loss: 0.0437 - acc: 0.9889 - val_loss: 0.0223 - val_acc: 1.0000\n",
      "Epoch 14/30\n",
      "360/360 [==============================] - 0s 1ms/step - loss: 0.0285 - acc: 0.9917 - val_loss: 0.0115 - val_acc: 1.0000\n",
      "Epoch 15/30\n",
      "360/360 [==============================] - 0s 1ms/step - loss: 0.0300 - acc: 0.9861 - val_loss: 0.0024 - val_acc: 1.0000\n",
      "Epoch 16/30\n",
      "360/360 [==============================] - 0s 1ms/step - loss: 0.0279 - acc: 0.9889 - val_loss: 0.0527 - val_acc: 0.9750\n",
      "Epoch 17/30\n",
      "360/360 [==============================] - 0s 1ms/step - loss: 0.0370 - acc: 0.9833 - val_loss: 0.2934 - val_acc: 0.9000\n",
      "Epoch 18/30\n",
      "360/360 [==============================] - 0s 1ms/step - loss: 0.0401 - acc: 0.9861 - val_loss: 0.0228 - val_acc: 1.0000\n",
      "Epoch 19/30\n",
      "360/360 [==============================] - 0s 997us/step - loss: 0.0447 - acc: 0.9917 - val_loss: 0.0333 - val_acc: 0.9750\n",
      "Epoch 20/30\n",
      "360/360 [==============================] - 0s 1ms/step - loss: 0.0334 - acc: 0.9861 - val_loss: 0.0276 - val_acc: 0.9750\n",
      "Epoch 21/30\n",
      "360/360 [==============================] - 0s 921us/step - loss: 0.0170 - acc: 0.9972 - val_loss: 0.0107 - val_acc: 1.0000\n",
      "Epoch 22/30\n",
      "360/360 [==============================] - 0s 976us/step - loss: 0.0206 - acc: 0.9917 - val_loss: 0.0375 - val_acc: 0.9750\n",
      "Epoch 23/30\n",
      "360/360 [==============================] - 0s 1ms/step - loss: 0.0375 - acc: 0.9833 - val_loss: 0.0577 - val_acc: 0.9750\n",
      "Epoch 24/30\n",
      "360/360 [==============================] - 0s 931us/step - loss: 0.0135 - acc: 0.9944 - val_loss: 0.0377 - val_acc: 0.9750\n",
      "Epoch 25/30\n",
      "360/360 [==============================] - 0s 924us/step - loss: 0.0307 - acc: 0.9917 - val_loss: 0.0090 - val_acc: 1.0000\n",
      "Epoch 26/30\n",
      "360/360 [==============================] - 0s 923us/step - loss: 0.0365 - acc: 0.9917 - val_loss: 0.0032 - val_acc: 1.0000\n",
      "Epoch 27/30\n",
      "360/360 [==============================] - 0s 969us/step - loss: 0.0040 - acc: 0.9972 - val_loss: 0.0078 - val_acc: 1.0000\n",
      "Epoch 28/30\n",
      "360/360 [==============================] - 0s 957us/step - loss: 0.0259 - acc: 0.9944 - val_loss: 0.0044 - val_acc: 1.0000\n",
      "Epoch 29/30\n",
      "360/360 [==============================] - 0s 1ms/step - loss: 0.0192 - acc: 0.9889 - val_loss: 0.0082 - val_acc: 1.0000\n",
      "Epoch 30/30\n",
      "360/360 [==============================] - 0s 946us/step - loss: 0.0173 - acc: 0.9917 - val_loss: 0.0098 - val_acc: 1.0000\n"
     ]
    }
   ],
   "source": [
    "classifier = cnn_model.fit(X_train, y_train, validation_split=0.1, epochs=30, batch_size=9, shuffle=True)"
   ]
  },
  {
   "cell_type": "code",
   "execution_count": 9,
   "metadata": {},
   "outputs": [
    {
     "name": "stdout",
     "output_type": "stream",
     "text": [
      "100/100 [==============================] - 0s 265us/step\n",
      "Loss = 0.004332587395329029\n",
      "Accuracy = 1.0\n"
     ]
    }
   ],
   "source": [
    "loss, accuracy = cnn_model.evaluate(X_test, y_test)\n",
    "print(\"Loss = \"+str(loss))\n",
    "print(\"Accuracy = \"+str(accuracy))"
   ]
  },
  {
   "cell_type": "code",
   "execution_count": 43,
   "metadata": {},
   "outputs": [],
   "source": [
    "acc_values = cnn_model.history.history['acc']\n",
    "val_acc_values = cnn_model.history.history['val_acc']\n",
    "epochs = range(1, len(acc_values) + 1)\n",
    "plt.plot(epochs, acc_values, 'r', label='Training acc')\n",
    "plt.plot(epochs, val_acc_values, 'b', label='Validation acc')\n",
    "plt.title('Training and validation accuracy')\n",
    "plt.xlabel('Epochs')\n",
    "plt.ylabel('Accuracy')\n",
    "plt.legend()\n",
    "plt.show()"
   ]
  },
  {
   "cell_type": "code",
   "execution_count": 45,
   "metadata": {},
   "outputs": [],
   "source": [
    "predictions = cnn_model.predict_classes(X_test, batch_size=5)"
   ]
  },
  {
   "cell_type": "code",
   "execution_count": 46,
   "metadata": {},
   "outputs": [
    {
     "data": {
      "text/plain": [
       "array([0, 0, 0, 0, 0, 0, 0, 0, 0, 0, 0, 0, 0, 0, 0, 0, 0, 0, 0, 0, 1, 1,\n",
       "       1, 1, 1, 1, 1, 1, 1, 1, 1, 1, 1, 1, 1, 1, 1, 1, 1, 1, 2, 2, 2, 2,\n",
       "       2, 2, 2, 2, 2, 2, 2, 2, 2, 2, 2, 2, 2, 2, 2, 2, 3, 3, 3, 3, 3, 3,\n",
       "       3, 3, 3, 3, 3, 3, 3, 3, 3, 3, 3, 3, 3, 3, 4, 4, 4, 4, 4, 4, 4, 4,\n",
       "       4, 4, 4, 4, 4, 4, 4, 4, 4, 4, 4, 4])"
      ]
     },
     "execution_count": 46,
     "metadata": {},
     "output_type": "execute_result"
    }
   ],
   "source": [
    "predictions"
   ]
  },
  {
   "cell_type": "code",
   "execution_count": 47,
   "metadata": {},
   "outputs": [],
   "source": [
    "cn = confusion_matrix(y_test_label, predictions)"
   ]
  },
  {
   "cell_type": "code",
   "execution_count": 48,
   "metadata": {},
   "outputs": [
    {
     "name": "stdout",
     "output_type": "stream",
     "text": [
      "Confusion Matrix\n"
     ]
    },
    {
     "data": {
      "text/plain": [
       "array([[20,  0,  0,  0,  0],\n",
       "       [ 0, 20,  0,  0,  0],\n",
       "       [ 0,  0, 20,  0,  0],\n",
       "       [ 0,  0,  0, 20,  0],\n",
       "       [ 0,  0,  0,  0, 20]])"
      ]
     },
     "execution_count": 48,
     "metadata": {},
     "output_type": "execute_result"
    }
   ],
   "source": [
    "print (\"Confusion Matrix\")\n",
    "cn"
   ]
  },
  {
   "cell_type": "code",
   "execution_count": 44,
   "metadata": {},
   "outputs": [],
   "source": [
    "cnn_model.save(\"../models/cnn_5labels_3.h5\")"
   ]
  }
 ],
 "metadata": {
  "kernelspec": {
   "display_name": "Python 3",
   "language": "python",
   "name": "python3"
  },
  "language_info": {
   "codemirror_mode": {
    "name": "ipython",
    "version": 3
   },
   "file_extension": ".py",
   "mimetype": "text/x-python",
   "name": "python",
   "nbconvert_exporter": "python",
   "pygments_lexer": "ipython3",
   "version": "3.6.5"
  }
 },
 "nbformat": 4,
 "nbformat_minor": 2
}
