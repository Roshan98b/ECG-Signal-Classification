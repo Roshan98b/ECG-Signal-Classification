{
 "cells": [
  {
   "cell_type": "code",
   "execution_count": 1,
   "metadata": {},
   "outputs": [
    {
     "name": "stderr",
     "output_type": "stream",
     "text": [
      "Using TensorFlow backend.\n"
     ]
    }
   ],
   "source": [
    "import os\n",
    "os.environ['TF_CPP_MIN_LOG_LEVEL'] = '3'\n",
    "import os, glob, cv2\n",
    "import numpy as np\n",
    "from sklearn.metrics import confusion_matrix\n",
    "import tensorflow as tf\n",
    "from keras.models import Sequential\n",
    "from keras.layers import Dense, Conv2D, MaxPooling2D, Flatten, Dropout\n",
    "from keras.optimizers import Adam"
   ]
  },
  {
   "cell_type": "code",
   "execution_count": 2,
   "metadata": {},
   "outputs": [],
   "source": [
    "train_path = '../dataset/images/'\n",
    "classes = [\"100\", \"118\", \"217\"]"
   ]
  },
  {
   "cell_type": "code",
   "execution_count": 3,
   "metadata": {},
   "outputs": [],
   "source": [
    "def load_data_cnn(train_path):\n",
    "    images = []\n",
    "    labels = []\n",
    "    classes = [lists for lists in os.walk(train_path)][0][1]    \n",
    "    for cls in classes:\n",
    "        file_path = os.path.join(train_path, cls, \"*g\")\n",
    "        for file in glob.glob(file_path):\n",
    "            image = cv2.imread(file)\n",
    "            image = image[288-250:288-35, 55:390]\n",
    "            image = cv2.resize(image, (int(215/5), int(215/5)), cv2.INTER_LINEAR)\n",
    "            label = np.zeros(len(classes))\n",
    "            label[classes.index(cls)] = 1.0\n",
    "            images.append(image)\n",
    "            labels.append(label) \n",
    "    images = np.array(images)\n",
    "    labels = np.array(labels)\n",
    "    return images, labels\n",
    "\n",
    "dataset = load_data_cnn(train_path)"
   ]
  },
  {
   "cell_type": "code",
   "execution_count": 4,
   "metadata": {},
   "outputs": [],
   "source": [
    "X_train = []\n",
    "X_train.append(dataset[0][:80])\n",
    "X_train.append(dataset[0][100:180])\n",
    "X_train.append(dataset[0][200:280])\n",
    "X_train = [j for i in X_train for j in i]\n",
    "X_train = np.array(X_train)\n",
    "\n",
    "y_train = []\n",
    "y_train.append(dataset[1][:80])\n",
    "y_train.append(dataset[1][100:180])\n",
    "y_train.append(dataset[1][200:280])\n",
    "y_train = [j for i in y_train for j in i]\n",
    "y_train = np.array(y_train)\n",
    "\n",
    "X_test = []\n",
    "X_test.append(dataset[0][80:100])\n",
    "X_test.append(dataset[0][180:200])\n",
    "X_test.append(dataset[0][280:300])\n",
    "X_test = [j for i in X_test for j in i]\n",
    "X_test = np.array(X_test)\n",
    "\n",
    "y_test = []\n",
    "y_test.append(dataset[1][80:100])\n",
    "y_test.append(dataset[1][180:200])\n",
    "y_test.append(dataset[1][280:300])\n",
    "y_test = [j for i in y_test for j in i]\n",
    "y_test = np.array(y_test)\n",
    "\n",
    "y_test_label = []\n",
    "for i in range(60):\n",
    "    if i >= 40:\n",
    "        y_test_label.append(2)\n",
    "    elif i >= 20:\n",
    "        y_test_label.append(1)\n",
    "    else:\n",
    "        y_test_label.append(0)\n",
    "        "
   ]
  },
  {
   "cell_type": "code",
   "execution_count": 5,
   "metadata": {},
   "outputs": [],
   "source": [
    "input_shape = (int(215/5), int(215/5), 3)"
   ]
  },
  {
   "cell_type": "code",
   "execution_count": 6,
   "metadata": {},
   "outputs": [],
   "source": [
    "cnn_model = Sequential()\n",
    "\n",
    "cnn_model.add(Conv2D(64, (3, 3), padding='same', activation='relu', input_shape=input_shape))\n",
    "cnn_model.add(Conv2D(64, (3, 3), activation='relu'))\n",
    "cnn_model.add(MaxPooling2D(pool_size=(2, 2)))\n",
    "cnn_model.add(Dropout(0.25))\n",
    "\n",
    "cnn_model.add(Conv2D(32, (3, 3), padding='same', activation='relu'))\n",
    "cnn_model.add(Conv2D(32, (3, 3), activation='relu'))\n",
    "cnn_model.add(MaxPooling2D(pool_size=(2, 2)))\n",
    "cnn_model.add(Dropout(0.25))\n",
    "\n",
    "cnn_model.add(Conv2D(32, (3, 3), padding='same', activation='relu'))\n",
    "cnn_model.add(Conv2D(32, (3, 3), activation='relu'))\n",
    "cnn_model.add(MaxPooling2D(pool_size=(2, 2)))\n",
    "cnn_model.add(Dropout(0.25))\n",
    "\n",
    "cnn_model.add(Flatten())\n",
    "cnn_model.add(Dense(256, activation='relu'))\n",
    "cnn_model.add(Dropout(0.5))\n",
    "cnn_model.add(Dense(3, activation='softmax'))"
   ]
  },
  {
   "cell_type": "code",
   "execution_count": 7,
   "metadata": {},
   "outputs": [],
   "source": [
    "cnn_model.compile(optimizer=Adam(lr=0.0001), loss='categorical_crossentropy', metrics=['accuracy'])"
   ]
  },
  {
   "cell_type": "code",
   "execution_count": 8,
   "metadata": {},
   "outputs": [
    {
     "name": "stdout",
     "output_type": "stream",
     "text": [
      "Train on 216 samples, validate on 24 samples\n",
      "Epoch 1/60\n",
      "216/216 [==============================] - 3s 16ms/step - loss: 11.5876 - acc: 0.2685 - val_loss: 1.1921e-07 - val_acc: 1.0000\n",
      "Epoch 2/60\n",
      "216/216 [==============================] - 2s 10ms/step - loss: 11.3825 - acc: 0.2778 - val_loss: 1.1921e-07 - val_acc: 1.0000\n",
      "Epoch 3/60\n",
      "216/216 [==============================] - 2s 10ms/step - loss: 10.9433 - acc: 0.3056 - val_loss: 1.0791e-05 - val_acc: 1.0000\n",
      "Epoch 4/60\n",
      "216/216 [==============================] - 2s 10ms/step - loss: 11.1846 - acc: 0.2731 - val_loss: 1.1921e-07 - val_acc: 1.0000\n",
      "Epoch 5/60\n",
      "216/216 [==============================] - 2s 10ms/step - loss: 10.0209 - acc: 0.3426 - val_loss: 2.9802e-06 - val_acc: 1.0000\n",
      "Epoch 6/60\n",
      "216/216 [==============================] - 2s 10ms/step - loss: 9.8253 - acc: 0.3287 - val_loss: 16.1181 - val_acc: 0.0000e+00\n",
      "Epoch 7/60\n",
      "216/216 [==============================] - 2s 10ms/step - loss: 9.5059 - acc: 0.3565 - val_loss: 16.1181 - val_acc: 0.0000e+00\n",
      "Epoch 8/60\n",
      "216/216 [==============================] - 2s 10ms/step - loss: 10.0365 - acc: 0.3380 - val_loss: 16.1181 - val_acc: 0.0000e+00\n",
      "Epoch 9/60\n",
      "216/216 [==============================] - 2s 10ms/step - loss: 9.3255 - acc: 0.3472 - val_loss: 16.1181 - val_acc: 0.0000e+00\n",
      "Epoch 10/60\n",
      "216/216 [==============================] - 2s 10ms/step - loss: 9.5312 - acc: 0.3333 - val_loss: 10.2188 - val_acc: 0.0000e+00\n",
      "Epoch 11/60\n",
      "216/216 [==============================] - 2s 11ms/step - loss: 8.6191 - acc: 0.3657 - val_loss: 16.1181 - val_acc: 0.0000e+00\n",
      "Epoch 12/60\n",
      "216/216 [==============================] - 2s 11ms/step - loss: 7.1605 - acc: 0.4213 - val_loss: 9.3478 - val_acc: 0.0000e+00\n",
      "Epoch 13/60\n",
      "216/216 [==============================] - 2s 10ms/step - loss: 5.0044 - acc: 0.3519 - val_loss: 3.1094 - val_acc: 0.0000e+00\n",
      "Epoch 14/60\n",
      "216/216 [==============================] - 2s 11ms/step - loss: 1.8982 - acc: 0.3935 - val_loss: 1.1847 - val_acc: 0.0833\n",
      "Epoch 15/60\n",
      "216/216 [==============================] - 2s 11ms/step - loss: 1.1577 - acc: 0.4491 - val_loss: 1.2082 - val_acc: 0.0000e+00\n",
      "Epoch 16/60\n",
      "216/216 [==============================] - 2s 11ms/step - loss: 0.9909 - acc: 0.5602 - val_loss: 1.1865 - val_acc: 0.0833\n",
      "Epoch 17/60\n",
      "216/216 [==============================] - 2s 10ms/step - loss: 1.0431 - acc: 0.5278 - val_loss: 1.0592 - val_acc: 0.2500\n",
      "Epoch 18/60\n",
      "216/216 [==============================] - 2s 10ms/step - loss: 0.9677 - acc: 0.5694 - val_loss: 1.0874 - val_acc: 0.0833\n",
      "Epoch 19/60\n",
      "216/216 [==============================] - 2s 10ms/step - loss: 0.9252 - acc: 0.5880 - val_loss: 0.9968 - val_acc: 0.1250\n",
      "Epoch 20/60\n",
      "216/216 [==============================] - 2s 10ms/step - loss: 0.8284 - acc: 0.6481 - val_loss: 0.9373 - val_acc: 0.3333\n",
      "Epoch 21/60\n",
      "216/216 [==============================] - 2s 10ms/step - loss: 0.8452 - acc: 0.6852 - val_loss: 0.8649 - val_acc: 0.6250\n",
      "Epoch 22/60\n",
      "216/216 [==============================] - 2s 10ms/step - loss: 0.6733 - acc: 0.7454 - val_loss: 0.6236 - val_acc: 0.9167\n",
      "Epoch 23/60\n",
      "216/216 [==============================] - 2s 10ms/step - loss: 0.6001 - acc: 0.7824 - val_loss: 0.6868 - val_acc: 0.7917\n",
      "Epoch 24/60\n",
      "216/216 [==============================] - 2s 10ms/step - loss: 0.5503 - acc: 0.7731 - val_loss: 0.5944 - val_acc: 1.0000\n",
      "Epoch 25/60\n",
      "216/216 [==============================] - 2s 10ms/step - loss: 0.5572 - acc: 0.7778 - val_loss: 0.3369 - val_acc: 1.0000\n",
      "Epoch 26/60\n",
      "216/216 [==============================] - 2s 11ms/step - loss: 0.4578 - acc: 0.8333 - val_loss: 0.3459 - val_acc: 1.0000\n",
      "Epoch 27/60\n",
      "216/216 [==============================] - 2s 10ms/step - loss: 0.5381 - acc: 0.8102 - val_loss: 0.3391 - val_acc: 1.0000\n",
      "Epoch 28/60\n",
      "216/216 [==============================] - 2s 11ms/step - loss: 0.4027 - acc: 0.8287 - val_loss: 0.1549 - val_acc: 1.0000\n",
      "Epoch 29/60\n",
      "216/216 [==============================] - 2s 10ms/step - loss: 0.3731 - acc: 0.8611 - val_loss: 0.1128 - val_acc: 1.0000\n",
      "Epoch 30/60\n",
      "216/216 [==============================] - 2s 10ms/step - loss: 0.3803 - acc: 0.8565 - val_loss: 0.1173 - val_acc: 1.0000\n",
      "Epoch 31/60\n",
      "216/216 [==============================] - 2s 10ms/step - loss: 0.3661 - acc: 0.8519 - val_loss: 0.0660 - val_acc: 1.0000\n",
      "Epoch 32/60\n",
      "216/216 [==============================] - 2s 11ms/step - loss: 0.3071 - acc: 0.8981 - val_loss: 0.0380 - val_acc: 1.0000\n",
      "Epoch 33/60\n",
      "216/216 [==============================] - 2s 11ms/step - loss: 0.2573 - acc: 0.9028 - val_loss: 0.0806 - val_acc: 1.0000\n",
      "Epoch 34/60\n",
      "216/216 [==============================] - 2s 11ms/step - loss: 0.2244 - acc: 0.9167 - val_loss: 0.0320 - val_acc: 1.0000\n",
      "Epoch 35/60\n",
      "216/216 [==============================] - 2s 11ms/step - loss: 0.1937 - acc: 0.9259 - val_loss: 0.0498 - val_acc: 1.0000\n",
      "Epoch 36/60\n",
      "216/216 [==============================] - 2s 11ms/step - loss: 0.2664 - acc: 0.8843 - val_loss: 0.0383 - val_acc: 1.0000\n",
      "Epoch 37/60\n",
      "216/216 [==============================] - 2s 11ms/step - loss: 0.2340 - acc: 0.9259 - val_loss: 0.0341 - val_acc: 1.0000\n",
      "Epoch 38/60\n",
      "216/216 [==============================] - 2s 11ms/step - loss: 0.1848 - acc: 0.9259 - val_loss: 0.0157 - val_acc: 1.0000\n",
      "Epoch 39/60\n",
      "216/216 [==============================] - 2s 11ms/step - loss: 0.1914 - acc: 0.9167 - val_loss: 0.0183 - val_acc: 1.0000\n",
      "Epoch 40/60\n",
      "216/216 [==============================] - 2s 11ms/step - loss: 0.1804 - acc: 0.9583 - val_loss: 0.0108 - val_acc: 1.0000\n",
      "Epoch 41/60\n",
      "216/216 [==============================] - 2s 11ms/step - loss: 0.1439 - acc: 0.9491 - val_loss: 0.0076 - val_acc: 1.0000\n",
      "Epoch 42/60\n",
      "216/216 [==============================] - 2s 11ms/step - loss: 0.1067 - acc: 0.9537 - val_loss: 0.0083 - val_acc: 1.0000\n",
      "Epoch 43/60\n",
      "216/216 [==============================] - 2s 11ms/step - loss: 0.1459 - acc: 0.9352 - val_loss: 0.0243 - val_acc: 1.0000\n",
      "Epoch 44/60\n",
      "216/216 [==============================] - 2s 11ms/step - loss: 0.1493 - acc: 0.9491 - val_loss: 0.0164 - val_acc: 1.0000\n",
      "Epoch 45/60\n",
      "216/216 [==============================] - 2s 11ms/step - loss: 0.1315 - acc: 0.9537 - val_loss: 0.0155 - val_acc: 1.0000\n",
      "Epoch 46/60\n",
      "216/216 [==============================] - 2s 11ms/step - loss: 0.1098 - acc: 0.9583 - val_loss: 0.0025 - val_acc: 1.0000\n",
      "Epoch 47/60\n",
      "216/216 [==============================] - 2s 11ms/step - loss: 0.1208 - acc: 0.9630 - val_loss: 0.0073 - val_acc: 1.0000\n",
      "Epoch 48/60\n",
      "216/216 [==============================] - 2s 11ms/step - loss: 0.1478 - acc: 0.9398 - val_loss: 0.0081 - val_acc: 1.0000\n",
      "Epoch 49/60\n",
      "216/216 [==============================] - 2s 11ms/step - loss: 0.0930 - acc: 0.9769 - val_loss: 0.0063 - val_acc: 1.0000\n",
      "Epoch 50/60\n",
      "216/216 [==============================] - 2s 11ms/step - loss: 0.0628 - acc: 0.9861 - val_loss: 0.0018 - val_acc: 1.0000\n",
      "Epoch 51/60\n",
      "216/216 [==============================] - 2s 11ms/step - loss: 0.0583 - acc: 0.9861 - val_loss: 0.0016 - val_acc: 1.0000\n",
      "Epoch 52/60\n",
      "216/216 [==============================] - 2s 11ms/step - loss: 0.0697 - acc: 0.9722 - val_loss: 5.3921e-04 - val_acc: 1.0000\n",
      "Epoch 53/60\n",
      "216/216 [==============================] - 2s 11ms/step - loss: 0.0762 - acc: 0.9537 - val_loss: 5.3125e-04 - val_acc: 1.0000\n",
      "Epoch 54/60\n",
      "216/216 [==============================] - 2s 11ms/step - loss: 0.0692 - acc: 0.9676 - val_loss: 0.0042 - val_acc: 1.0000\n",
      "Epoch 55/60\n",
      "216/216 [==============================] - 2s 10ms/step - loss: 0.1264 - acc: 0.9722 - val_loss: 0.0083 - val_acc: 1.0000\n",
      "Epoch 56/60\n",
      "216/216 [==============================] - 3s 14ms/step - loss: 0.0594 - acc: 0.9815 - val_loss: 0.0032 - val_acc: 1.0000\n",
      "Epoch 57/60\n",
      "216/216 [==============================] - 2s 12ms/step - loss: 0.0663 - acc: 0.9722 - val_loss: 0.0031 - val_acc: 1.0000\n",
      "Epoch 58/60\n",
      "216/216 [==============================] - 2s 10ms/step - loss: 0.0457 - acc: 0.9861 - val_loss: 3.4792e-04 - val_acc: 1.0000\n",
      "Epoch 59/60\n",
      "216/216 [==============================] - 2s 11ms/step - loss: 0.1054 - acc: 0.9630 - val_loss: 4.3341e-04 - val_acc: 1.0000\n",
      "Epoch 60/60\n",
      "216/216 [==============================] - 2s 10ms/step - loss: 0.0336 - acc: 0.9815 - val_loss: 4.4701e-04 - val_acc: 1.0000\n"
     ]
    }
   ],
   "source": [
    "classifier = cnn_model.fit(X_train, y_train, validation_split=0.1, epochs=60, batch_size=9)"
   ]
  },
  {
   "cell_type": "code",
   "execution_count": 9,
   "metadata": {},
   "outputs": [
    {
     "name": "stdout",
     "output_type": "stream",
     "text": [
      "60/60 [==============================] - 0s 3ms/step\n",
      "Loss = 0.003644379631926616\n",
      "Accuracy = 1.0\n"
     ]
    }
   ],
   "source": [
    "loss, accuracy = cnn_model.evaluate(X_test, y_test)\n",
    "print(\"Loss = \"+str(loss))\n",
    "print(\"Accuracy = \"+str(accuracy))"
   ]
  },
  {
   "cell_type": "code",
   "execution_count": 10,
   "metadata": {},
   "outputs": [],
   "source": [
    "predictions = cnn_model.predict_classes(X_test, batch_size=5)"
   ]
  },
  {
   "cell_type": "code",
   "execution_count": 11,
   "metadata": {},
   "outputs": [
    {
     "data": {
      "text/plain": [
       "array([0, 0, 0, 0, 0, 0, 0, 0, 0, 0, 0, 0, 0, 0, 0, 0, 0, 0, 0, 0, 1, 1,\n",
       "       1, 1, 1, 1, 1, 1, 1, 1, 1, 1, 1, 1, 1, 1, 1, 1, 1, 1, 2, 2, 2, 2,\n",
       "       2, 2, 2, 2, 2, 2, 2, 2, 2, 2, 2, 2, 2, 2, 2, 2])"
      ]
     },
     "execution_count": 11,
     "metadata": {},
     "output_type": "execute_result"
    }
   ],
   "source": [
    "predictions"
   ]
  },
  {
   "cell_type": "code",
   "execution_count": 12,
   "metadata": {},
   "outputs": [],
   "source": [
    "cn = confusion_matrix(y_test_label, predictions)"
   ]
  },
  {
   "cell_type": "code",
   "execution_count": 13,
   "metadata": {},
   "outputs": [
    {
     "name": "stdout",
     "output_type": "stream",
     "text": [
      "Confusion Matrix\n"
     ]
    },
    {
     "data": {
      "text/plain": [
       "array([[20,  0,  0],\n",
       "       [ 0, 20,  0],\n",
       "       [ 0,  0, 20]])"
      ]
     },
     "execution_count": 13,
     "metadata": {},
     "output_type": "execute_result"
    }
   ],
   "source": [
    "print (\"Confusion Matrix\")\n",
    "cn"
   ]
  },
  {
   "cell_type": "code",
   "execution_count": 14,
   "metadata": {},
   "outputs": [],
   "source": [
    "cnn_model.save(\"../models/cnn_3labels_2.h5\")"
   ]
  },
  {
   "cell_type": "code",
   "execution_count": null,
   "metadata": {},
   "outputs": [],
   "source": []
  }
 ],
 "metadata": {
  "kernelspec": {
   "display_name": "Python 3",
   "language": "python",
   "name": "python3"
  },
  "language_info": {
   "codemirror_mode": {
    "name": "ipython",
    "version": 3
   },
   "file_extension": ".py",
   "mimetype": "text/x-python",
   "name": "python",
   "nbconvert_exporter": "python",
   "pygments_lexer": "ipython3",
   "version": "3.6.5"
  }
 },
 "nbformat": 4,
 "nbformat_minor": 2
}
