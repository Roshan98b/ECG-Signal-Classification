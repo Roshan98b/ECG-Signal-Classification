{
 "cells": [
  {
   "cell_type": "code",
   "execution_count": 1,
   "metadata": {},
   "outputs": [
    {
     "name": "stderr",
     "output_type": "stream",
     "text": [
      "Using TensorFlow backend.\n"
     ]
    }
   ],
   "source": [
    "%matplotlib tk\n",
    "import os\n",
    "os.environ['TF_CPP_MIN_LOG_LEVEL'] = '3'\n",
    "import os, glob, cv2\n",
    "import numpy as np\n",
    "from sklearn.metrics import confusion_matrix\n",
    "import tensorflow as tf\n",
    "import matplotlib.pyplot as plt\n",
    "from keras.models import Sequential\n",
    "from keras.layers import Dense, Conv2D, MaxPooling2D, Flatten, Dropout, BatchNormalization, Activation\n",
    "from keras.optimizers import Adam"
   ]
  },
  {
   "cell_type": "code",
   "execution_count": 2,
   "metadata": {},
   "outputs": [],
   "source": [
    "train_path = '../dataset/images-half/'\n",
    "classes = [\"100\", \"106\", \"109\", \"118\", \"217\"]"
   ]
  },
  {
   "cell_type": "code",
   "execution_count": 3,
   "metadata": {},
   "outputs": [],
   "source": [
    "def load_data_cnn(train_path):\n",
    "    images = []\n",
    "    labels = []\n",
    "    classes = [lists for lists in os.walk(train_path)][0][1]    \n",
    "    for cls in classes:\n",
    "        file_path = os.path.join(train_path, cls, \"*g\")\n",
    "        for file in glob.glob(file_path):\n",
    "            image = cv2.imread(file)\n",
    "            image = cv2.resize(image, (432, 288), cv2.INTER_LINEAR)\n",
    "            image = image[288-250:288-35, 55:390]\n",
    "            image = cv2.resize(image, (int(215/5), int(215/5)), cv2.INTER_LINEAR)\n",
    "            label = np.zeros(len(classes))\n",
    "            label[classes.index(cls)] = 1.0\n",
    "            images.append(image)\n",
    "            labels.append(label) \n",
    "    images = np.array(images)\n",
    "    labels = np.array(labels)\n",
    "    return images, labels\n",
    "\n",
    "dataset = load_data_cnn(train_path)"
   ]
  },
  {
   "cell_type": "code",
   "execution_count": 4,
   "metadata": {},
   "outputs": [],
   "source": [
    "X_train = []\n",
    "X_train.append(dataset[0][:80])\n",
    "X_train.append(dataset[0][100:180])\n",
    "X_train.append(dataset[0][200:280])\n",
    "X_train.append(dataset[0][300:380])\n",
    "X_train.append(dataset[0][400:480])\n",
    "X_train = [j for i in X_train for j in i]\n",
    "X_train = np.array(X_train)\n",
    "\n",
    "y_train = []\n",
    "y_train.append(dataset[1][:80])\n",
    "y_train.append(dataset[1][100:180])\n",
    "y_train.append(dataset[1][200:280])\n",
    "y_train.append(dataset[1][300:380])\n",
    "y_train.append(dataset[1][400:480])\n",
    "y_train = [j for i in y_train for j in i]\n",
    "y_train = np.array(y_train)\n",
    "\n",
    "X_test = []\n",
    "X_test.append(dataset[0][80:100])\n",
    "X_test.append(dataset[0][180:200])\n",
    "X_test.append(dataset[0][280:300])\n",
    "X_test.append(dataset[0][380:400])\n",
    "X_test.append(dataset[0][480:500])\n",
    "X_test = [j for i in X_test for j in i]\n",
    "X_test = np.array(X_test)\n",
    "\n",
    "y_test = []\n",
    "y_test.append(dataset[1][80:100])\n",
    "y_test.append(dataset[1][180:200])\n",
    "y_test.append(dataset[1][280:300])\n",
    "y_test.append(dataset[1][380:400])\n",
    "y_test.append(dataset[1][480:500])\n",
    "y_test = [j for i in y_test for j in i]\n",
    "y_test = np.array(y_test)\n",
    "\n",
    "y_test_label = []\n",
    "for i in range(100):\n",
    "    if i >= 80:\n",
    "        y_test_label.append(4)\n",
    "    elif i >= 60:\n",
    "        y_test_label.append(3)\n",
    "    elif i >= 40:\n",
    "        y_test_label.append(2)\n",
    "    elif i >= 20:\n",
    "        y_test_label.append(1)\n",
    "    else:\n",
    "        y_test_label.append(0)\n",
    "        "
   ]
  },
  {
   "cell_type": "markdown",
   "metadata": {},
   "source": [
    "0 - normal <br>\n",
    "1 - paced <br>\n",
    "2 - lbbb <br>\n",
    "3 - pvc <br>\n",
    "4 - rbbb"
   ]
  },
  {
   "cell_type": "markdown",
   "metadata": {},
   "source": [
    "plt.imshow(X_train[320])"
   ]
  },
  {
   "cell_type": "code",
   "execution_count": 5,
   "metadata": {},
   "outputs": [],
   "source": [
    "input_shape = (int(215/5), int(215/5), 3)"
   ]
  },
  {
   "cell_type": "code",
   "execution_count": 6,
   "metadata": {},
   "outputs": [],
   "source": [
    "cnn_model = Sequential()\n",
    "\n",
    "cnn_model.add(Conv2D(64, (3, 3), input_shape=input_shape))\n",
    "cnn_model.add(BatchNormalization())\n",
    "cnn_model.add(Activation('relu'))\n",
    "cnn_model.add(MaxPooling2D(pool_size=(2, 2)))\n",
    "cnn_model.add(Dropout(0.25))\n",
    "\n",
    "cnn_model.add(Conv2D(32, (3, 3)))\n",
    "cnn_model.add(BatchNormalization())\n",
    "cnn_model.add(Activation('relu'))\n",
    "cnn_model.add(MaxPooling2D(pool_size=(2, 2)))\n",
    "cnn_model.add(Dropout(0.25))\n",
    "\n",
    "cnn_model.add(Conv2D(32, (3, 3)))\n",
    "cnn_model.add(BatchNormalization())\n",
    "cnn_model.add(Activation('relu'))\n",
    "cnn_model.add(MaxPooling2D(pool_size=(2, 2)))\n",
    "cnn_model.add(Dropout(0.25))\n",
    "\n",
    "cnn_model.add(Flatten())\n",
    "cnn_model.add(Dense(256, activation='relu'))\n",
    "cnn_model.add(Dropout(0.5))\n",
    "cnn_model.add(Dense(5, activation='softmax'))"
   ]
  },
  {
   "cell_type": "code",
   "execution_count": 7,
   "metadata": {},
   "outputs": [],
   "source": [
    "cnn_model.compile(optimizer=Adam(lr=0.0001, beta_1=0.9, beta_2=0.999), loss='categorical_crossentropy', metrics=['accuracy'])"
   ]
  },
  {
   "cell_type": "code",
   "execution_count": 8,
   "metadata": {},
   "outputs": [
    {
     "name": "stdout",
     "output_type": "stream",
     "text": [
      "Train on 360 samples, validate on 40 samples\n",
      "Epoch 1/50\n",
      "360/360 [==============================] - 2s 4ms/step - loss: 2.4028 - acc: 0.2222 - val_loss: 1.6228 - val_acc: 0.1500\n",
      "Epoch 2/50\n",
      "360/360 [==============================] - 0s 937us/step - loss: 1.6474 - acc: 0.3583 - val_loss: 1.3712 - val_acc: 0.4000\n",
      "Epoch 3/50\n",
      "360/360 [==============================] - 0s 921us/step - loss: 1.3632 - acc: 0.4972 - val_loss: 1.0955 - val_acc: 0.7000\n",
      "Epoch 4/50\n",
      "360/360 [==============================] - 0s 938us/step - loss: 1.2894 - acc: 0.5167 - val_loss: 0.7885 - val_acc: 0.9250\n",
      "Epoch 5/50\n",
      "360/360 [==============================] - 0s 961us/step - loss: 1.0131 - acc: 0.6194 - val_loss: 0.6763 - val_acc: 0.9500\n",
      "Epoch 6/50\n",
      "360/360 [==============================] - 0s 951us/step - loss: 1.0047 - acc: 0.6194 - val_loss: 0.5282 - val_acc: 0.9750\n",
      "Epoch 7/50\n",
      "360/360 [==============================] - 0s 974us/step - loss: 0.7622 - acc: 0.7222 - val_loss: 0.3859 - val_acc: 0.9750\n",
      "Epoch 8/50\n",
      "360/360 [==============================] - 0s 957us/step - loss: 0.7053 - acc: 0.7333 - val_loss: 0.3355 - val_acc: 0.9750\n",
      "Epoch 9/50\n",
      "360/360 [==============================] - 0s 909us/step - loss: 0.6555 - acc: 0.7500 - val_loss: 0.3323 - val_acc: 0.9750\n",
      "Epoch 10/50\n",
      "360/360 [==============================] - 0s 944us/step - loss: 0.5863 - acc: 0.7667 - val_loss: 0.2360 - val_acc: 1.0000\n",
      "Epoch 11/50\n",
      "360/360 [==============================] - 0s 1ms/step - loss: 0.5523 - acc: 0.8083 - val_loss: 0.2214 - val_acc: 1.0000\n",
      "Epoch 12/50\n",
      "360/360 [==============================] - 0s 927us/step - loss: 0.5479 - acc: 0.7944 - val_loss: 0.1502 - val_acc: 1.0000\n",
      "Epoch 13/50\n",
      "360/360 [==============================] - 0s 932us/step - loss: 0.5251 - acc: 0.8056 - val_loss: 0.1834 - val_acc: 1.0000\n",
      "Epoch 14/50\n",
      "360/360 [==============================] - 0s 925us/step - loss: 0.5312 - acc: 0.7861 - val_loss: 0.1602 - val_acc: 1.0000\n",
      "Epoch 15/50\n",
      "360/360 [==============================] - 0s 1ms/step - loss: 0.4338 - acc: 0.8444 - val_loss: 0.1502 - val_acc: 1.0000\n",
      "Epoch 16/50\n",
      "360/360 [==============================] - 0s 991us/step - loss: 0.4590 - acc: 0.8278 - val_loss: 0.1256 - val_acc: 1.0000\n",
      "Epoch 17/50\n",
      "360/360 [==============================] - 0s 907us/step - loss: 0.4316 - acc: 0.8444 - val_loss: 0.0957 - val_acc: 1.0000\n",
      "Epoch 18/50\n",
      "360/360 [==============================] - 0s 1ms/step - loss: 0.4266 - acc: 0.8611 - val_loss: 0.0812 - val_acc: 1.0000\n",
      "Epoch 19/50\n",
      "360/360 [==============================] - 0s 1ms/step - loss: 0.3818 - acc: 0.8583 - val_loss: 0.0939 - val_acc: 1.0000\n",
      "Epoch 20/50\n",
      "360/360 [==============================] - 0s 1ms/step - loss: 0.3644 - acc: 0.8833 - val_loss: 0.0707 - val_acc: 1.0000\n",
      "Epoch 21/50\n",
      "360/360 [==============================] - 0s 1ms/step - loss: 0.3530 - acc: 0.8833 - val_loss: 0.0809 - val_acc: 1.0000\n",
      "Epoch 22/50\n",
      "360/360 [==============================] - 0s 942us/step - loss: 0.3304 - acc: 0.8889 - val_loss: 0.0606 - val_acc: 1.0000\n",
      "Epoch 23/50\n",
      "360/360 [==============================] - 0s 950us/step - loss: 0.3106 - acc: 0.8972 - val_loss: 0.0628 - val_acc: 1.0000\n",
      "Epoch 24/50\n",
      "360/360 [==============================] - 0s 956us/step - loss: 0.2739 - acc: 0.9056 - val_loss: 0.0631 - val_acc: 1.0000\n",
      "Epoch 25/50\n",
      "360/360 [==============================] - 0s 924us/step - loss: 0.2567 - acc: 0.9194 - val_loss: 0.0589 - val_acc: 1.0000\n",
      "Epoch 26/50\n",
      "360/360 [==============================] - 0s 933us/step - loss: 0.2720 - acc: 0.9000 - val_loss: 0.0529 - val_acc: 1.0000\n",
      "Epoch 27/50\n",
      "360/360 [==============================] - 0s 1ms/step - loss: 0.2878 - acc: 0.8944 - val_loss: 0.0395 - val_acc: 1.0000\n",
      "Epoch 28/50\n",
      "360/360 [==============================] - 0s 946us/step - loss: 0.2528 - acc: 0.9194 - val_loss: 0.0419 - val_acc: 1.0000\n",
      "Epoch 29/50\n",
      "360/360 [==============================] - 0s 963us/step - loss: 0.2655 - acc: 0.9028 - val_loss: 0.0266 - val_acc: 1.0000\n",
      "Epoch 30/50\n",
      "360/360 [==============================] - 0s 929us/step - loss: 0.2245 - acc: 0.9333 - val_loss: 0.0236 - val_acc: 1.0000\n",
      "Epoch 31/50\n",
      "360/360 [==============================] - 0s 1ms/step - loss: 0.2613 - acc: 0.9028 - val_loss: 0.0224 - val_acc: 1.0000\n",
      "Epoch 32/50\n",
      "360/360 [==============================] - 0s 990us/step - loss: 0.2380 - acc: 0.9306 - val_loss: 0.0248 - val_acc: 1.0000\n",
      "Epoch 33/50\n",
      "360/360 [==============================] - 0s 928us/step - loss: 0.2316 - acc: 0.9278 - val_loss: 0.0247 - val_acc: 1.0000\n",
      "Epoch 34/50\n",
      "360/360 [==============================] - 0s 912us/step - loss: 0.1896 - acc: 0.9389 - val_loss: 0.0216 - val_acc: 1.0000\n",
      "Epoch 35/50\n",
      "360/360 [==============================] - 0s 934us/step - loss: 0.2118 - acc: 0.9333 - val_loss: 0.0310 - val_acc: 1.0000\n",
      "Epoch 36/50\n",
      "360/360 [==============================] - 0s 954us/step - loss: 0.2156 - acc: 0.9278 - val_loss: 0.0286 - val_acc: 1.0000\n",
      "Epoch 37/50\n",
      "360/360 [==============================] - 0s 928us/step - loss: 0.1754 - acc: 0.9389 - val_loss: 0.0322 - val_acc: 1.0000\n",
      "Epoch 38/50\n",
      "360/360 [==============================] - 0s 936us/step - loss: 0.1984 - acc: 0.9194 - val_loss: 0.0319 - val_acc: 1.0000\n",
      "Epoch 39/50\n",
      "360/360 [==============================] - 0s 939us/step - loss: 0.2078 - acc: 0.9278 - val_loss: 0.0272 - val_acc: 1.0000\n",
      "Epoch 40/50\n",
      "360/360 [==============================] - 0s 936us/step - loss: 0.1721 - acc: 0.9500 - val_loss: 0.0189 - val_acc: 1.0000\n",
      "Epoch 41/50\n",
      "360/360 [==============================] - 0s 982us/step - loss: 0.1981 - acc: 0.9250 - val_loss: 0.0212 - val_acc: 1.0000\n",
      "Epoch 42/50\n",
      "360/360 [==============================] - 0s 929us/step - loss: 0.2152 - acc: 0.9333 - val_loss: 0.0160 - val_acc: 1.0000\n",
      "Epoch 43/50\n",
      "360/360 [==============================] - 0s 940us/step - loss: 0.1623 - acc: 0.9611 - val_loss: 0.0127 - val_acc: 1.0000\n",
      "Epoch 44/50\n",
      "360/360 [==============================] - 0s 966us/step - loss: 0.1604 - acc: 0.9417 - val_loss: 0.0152 - val_acc: 1.0000\n",
      "Epoch 45/50\n",
      "360/360 [==============================] - 0s 971us/step - loss: 0.1457 - acc: 0.9583 - val_loss: 0.0139 - val_acc: 1.0000\n",
      "Epoch 46/50\n",
      "360/360 [==============================] - 0s 941us/step - loss: 0.1538 - acc: 0.9528 - val_loss: 0.0118 - val_acc: 1.0000\n",
      "Epoch 47/50\n",
      "360/360 [==============================] - 0s 933us/step - loss: 0.1597 - acc: 0.9389 - val_loss: 0.0100 - val_acc: 1.0000\n",
      "Epoch 48/50\n",
      "360/360 [==============================] - 0s 961us/step - loss: 0.1661 - acc: 0.9444 - val_loss: 0.0102 - val_acc: 1.0000\n",
      "Epoch 49/50\n",
      "360/360 [==============================] - 0s 940us/step - loss: 0.1414 - acc: 0.9583 - val_loss: 0.0105 - val_acc: 1.0000\n",
      "Epoch 50/50\n",
      "360/360 [==============================] - 0s 963us/step - loss: 0.1155 - acc: 0.9639 - val_loss: 0.0085 - val_acc: 1.0000\n"
     ]
    }
   ],
   "source": [
    "classifier = cnn_model.fit(X_train, y_train, validation_split=0.1, epochs=50, batch_size=9, shuffle=True)"
   ]
  },
  {
   "cell_type": "code",
   "execution_count": 9,
   "metadata": {},
   "outputs": [
    {
     "name": "stdout",
     "output_type": "stream",
     "text": [
      "100/100 [==============================] - 0s 281us/step\n",
      "Loss = 0.07839754950255155\n",
      "Accuracy = 0.97\n"
     ]
    }
   ],
   "source": [
    "loss, accuracy = cnn_model.evaluate(X_test, y_test)\n",
    "print(\"Loss = \"+str(loss))\n",
    "print(\"Accuracy = \"+str(accuracy))"
   ]
  },
  {
   "cell_type": "code",
   "execution_count": 10,
   "metadata": {},
   "outputs": [],
   "source": [
    "acc_values = cnn_model.history.history['acc']\n",
    "val_acc_values = cnn_model.history.history['val_acc']\n",
    "epochs = range(1, len(acc_values) + 1)\n",
    "plt.plot(epochs, acc_values, 'r', label='Training acc')\n",
    "plt.plot(epochs, val_acc_values, 'b', label='Validation acc')\n",
    "plt.title('Training and validation accuracy')\n",
    "plt.xlabel('Epochs')\n",
    "plt.ylabel('Accuracy')\n",
    "plt.legend()\n",
    "plt.show()"
   ]
  },
  {
   "cell_type": "code",
   "execution_count": 11,
   "metadata": {},
   "outputs": [],
   "source": [
    "predictions = cnn_model.predict_classes(X_test, batch_size=5)"
   ]
  },
  {
   "cell_type": "code",
   "execution_count": 12,
   "metadata": {},
   "outputs": [
    {
     "data": {
      "text/plain": [
       "array([0, 0, 0, 0, 0, 0, 0, 0, 0, 0, 0, 0, 0, 3, 0, 0, 0, 0, 0, 0, 1, 1,\n",
       "       1, 1, 1, 1, 1, 1, 1, 1, 1, 1, 1, 1, 0, 1, 1, 1, 1, 1, 2, 2, 2, 2,\n",
       "       2, 2, 2, 2, 2, 2, 2, 2, 2, 2, 2, 2, 2, 2, 2, 2, 3, 3, 3, 3, 3, 4,\n",
       "       3, 3, 3, 3, 3, 3, 3, 3, 3, 3, 3, 3, 3, 3, 4, 4, 4, 4, 4, 4, 4, 4,\n",
       "       4, 4, 4, 4, 4, 4, 4, 4, 4, 4, 4, 4])"
      ]
     },
     "execution_count": 12,
     "metadata": {},
     "output_type": "execute_result"
    }
   ],
   "source": [
    "predictions"
   ]
  },
  {
   "cell_type": "code",
   "execution_count": 13,
   "metadata": {},
   "outputs": [],
   "source": [
    "cn = confusion_matrix(y_test_label, predictions)"
   ]
  },
  {
   "cell_type": "code",
   "execution_count": 14,
   "metadata": {},
   "outputs": [
    {
     "name": "stdout",
     "output_type": "stream",
     "text": [
      "Confusion Matrix\n"
     ]
    },
    {
     "data": {
      "text/plain": [
       "array([[19,  0,  0,  1,  0],\n",
       "       [ 1, 19,  0,  0,  0],\n",
       "       [ 0,  0, 20,  0,  0],\n",
       "       [ 0,  0,  0, 19,  1],\n",
       "       [ 0,  0,  0,  0, 20]])"
      ]
     },
     "execution_count": 14,
     "metadata": {},
     "output_type": "execute_result"
    }
   ],
   "source": [
    "print (\"Confusion Matrix\")\n",
    "cn"
   ]
  },
  {
   "cell_type": "code",
   "execution_count": 15,
   "metadata": {},
   "outputs": [],
   "source": [
    "cnn_model.save(\"../models/cnn_5labels_7.h5\")"
   ]
  },
  {
   "cell_type": "code",
   "execution_count": 2,
   "metadata": {},
   "outputs": [],
   "source": [
    "from keras.models import load_model "
   ]
  },
  {
   "cell_type": "code",
   "execution_count": 3,
   "metadata": {},
   "outputs": [],
   "source": [
    "cnn_model = load_model(\"../models/cnn_5labels_7.h5\")"
   ]
  },
  {
   "cell_type": "code",
   "execution_count": 4,
   "metadata": {},
   "outputs": [
    {
     "name": "stdout",
     "output_type": "stream",
     "text": [
      "_________________________________________________________________\n",
      "Layer (type)                 Output Shape              Param #   \n",
      "=================================================================\n",
      "conv2d_1 (Conv2D)            (None, 41, 41, 64)        1792      \n",
      "_________________________________________________________________\n",
      "batch_normalization_1 (Batch (None, 41, 41, 64)        256       \n",
      "_________________________________________________________________\n",
      "activation_1 (Activation)    (None, 41, 41, 64)        0         \n",
      "_________________________________________________________________\n",
      "max_pooling2d_1 (MaxPooling2 (None, 20, 20, 64)        0         \n",
      "_________________________________________________________________\n",
      "dropout_1 (Dropout)          (None, 20, 20, 64)        0         \n",
      "_________________________________________________________________\n",
      "conv2d_2 (Conv2D)            (None, 18, 18, 32)        18464     \n",
      "_________________________________________________________________\n",
      "batch_normalization_2 (Batch (None, 18, 18, 32)        128       \n",
      "_________________________________________________________________\n",
      "activation_2 (Activation)    (None, 18, 18, 32)        0         \n",
      "_________________________________________________________________\n",
      "max_pooling2d_2 (MaxPooling2 (None, 9, 9, 32)          0         \n",
      "_________________________________________________________________\n",
      "dropout_2 (Dropout)          (None, 9, 9, 32)          0         \n",
      "_________________________________________________________________\n",
      "conv2d_3 (Conv2D)            (None, 7, 7, 32)          9248      \n",
      "_________________________________________________________________\n",
      "batch_normalization_3 (Batch (None, 7, 7, 32)          128       \n",
      "_________________________________________________________________\n",
      "activation_3 (Activation)    (None, 7, 7, 32)          0         \n",
      "_________________________________________________________________\n",
      "max_pooling2d_3 (MaxPooling2 (None, 3, 3, 32)          0         \n",
      "_________________________________________________________________\n",
      "dropout_3 (Dropout)          (None, 3, 3, 32)          0         \n",
      "_________________________________________________________________\n",
      "flatten_1 (Flatten)          (None, 288)               0         \n",
      "_________________________________________________________________\n",
      "dense_1 (Dense)              (None, 256)               73984     \n",
      "_________________________________________________________________\n",
      "dropout_4 (Dropout)          (None, 256)               0         \n",
      "_________________________________________________________________\n",
      "dense_2 (Dense)              (None, 5)                 1285      \n",
      "=================================================================\n",
      "Total params: 105,285\n",
      "Trainable params: 105,029\n",
      "Non-trainable params: 256\n",
      "_________________________________________________________________\n"
     ]
    }
   ],
   "source": [
    "cnn_model.summary()"
   ]
  }
 ],
 "metadata": {
  "kernelspec": {
   "display_name": "Python 3",
   "language": "python",
   "name": "python3"
  },
  "language_info": {
   "codemirror_mode": {
    "name": "ipython",
    "version": 3
   },
   "file_extension": ".py",
   "mimetype": "text/x-python",
   "name": "python",
   "nbconvert_exporter": "python",
   "pygments_lexer": "ipython3",
   "version": "3.6.5"
  }
 },
 "nbformat": 4,
 "nbformat_minor": 2
}
