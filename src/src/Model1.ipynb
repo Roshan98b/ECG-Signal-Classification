{
 "cells": [
  {
   "cell_type": "code",
   "execution_count": 1,
   "metadata": {},
   "outputs": [
    {
     "name": "stderr",
     "output_type": "stream",
     "text": [
      "Using TensorFlow backend.\n"
     ]
    }
   ],
   "source": [
    "%matplotlib tk\n",
    "import os\n",
    "os.environ['TF_CPP_MIN_LOG_LEVEL'] = '3'\n",
    "import os, glob, cv2\n",
    "import numpy as np\n",
    "from sklearn.metrics import confusion_matrix\n",
    "import tensorflow as tf\n",
    "import matplotlib.pyplot as plt\n",
    "from keras.models import Sequential\n",
    "from keras.layers import Dense, Conv2D, MaxPooling2D, Flatten, Dropout, BatchNormalization, Activation\n",
    "from keras.optimizers import Adam"
   ]
  },
  {
   "cell_type": "code",
   "execution_count": 2,
   "metadata": {},
   "outputs": [],
   "source": [
    "train_path = '../dataset/images-half/'\n",
    "classes = [\"100\", \"106\", \"109\", \"118\", \"217\"]"
   ]
  },
  {
   "cell_type": "code",
   "execution_count": 3,
   "metadata": {},
   "outputs": [],
   "source": [
    "def load_data_cnn(train_path):\n",
    "    images = []\n",
    "    labels = []\n",
    "    classes = [lists for lists in os.walk(train_path)][0][1]    \n",
    "    for cls in classes:\n",
    "        file_path = os.path.join(train_path, cls, \"*g\")\n",
    "        for file in glob.glob(file_path):\n",
    "            image = cv2.imread(file)\n",
    "            image = cv2.resize(image, (432, 288), cv2.INTER_LINEAR)\n",
    "            image = image[288-250:288-35, 55:390]\n",
    "            image = cv2.resize(image, (int(215/5), int(215/5)), cv2.INTER_LINEAR)\n",
    "            label = np.zeros(len(classes))\n",
    "            label[classes.index(cls)] = 1.0\n",
    "            images.append(image)\n",
    "            labels.append(label) \n",
    "    images = np.array(images)\n",
    "    labels = np.array(labels)\n",
    "    return images, labels\n",
    "\n",
    "dataset = load_data_cnn(train_path)"
   ]
  },
  {
   "cell_type": "code",
   "execution_count": 4,
   "metadata": {},
   "outputs": [],
   "source": [
    "X_train = []\n",
    "X_train.append(dataset[0][:80])\n",
    "X_train.append(dataset[0][100:180])\n",
    "X_train.append(dataset[0][200:280])\n",
    "X_train.append(dataset[0][300:380])\n",
    "X_train.append(dataset[0][400:480])\n",
    "X_train = [j for i in X_train for j in i]\n",
    "X_train = np.array(X_train)\n",
    "\n",
    "y_train = []\n",
    "y_train.append(dataset[1][:80])\n",
    "y_train.append(dataset[1][100:180])\n",
    "y_train.append(dataset[1][200:280])\n",
    "y_train.append(dataset[1][300:380])\n",
    "y_train.append(dataset[1][400:480])\n",
    "y_train = [j for i in y_train for j in i]\n",
    "y_train = np.array(y_train)\n",
    "\n",
    "X_test = []\n",
    "X_test.append(dataset[0][80:100])\n",
    "X_test.append(dataset[0][180:200])\n",
    "X_test.append(dataset[0][280:300])\n",
    "X_test.append(dataset[0][380:400])\n",
    "X_test.append(dataset[0][480:500])\n",
    "X_test = [j for i in X_test for j in i]\n",
    "X_test = np.array(X_test)\n",
    "\n",
    "y_test = []\n",
    "y_test.append(dataset[1][80:100])\n",
    "y_test.append(dataset[1][180:200])\n",
    "y_test.append(dataset[1][280:300])\n",
    "y_test.append(dataset[1][380:400])\n",
    "y_test.append(dataset[1][480:500])\n",
    "y_test = [j for i in y_test for j in i]\n",
    "y_test = np.array(y_test)\n",
    "\n",
    "y_test_label = []\n",
    "for i in range(100):\n",
    "    if i >= 80:\n",
    "        y_test_label.append(4)\n",
    "    elif i >= 60:\n",
    "        y_test_label.append(3)\n",
    "    elif i >= 40:\n",
    "        y_test_label.append(2)\n",
    "    elif i >= 20:\n",
    "        y_test_label.append(1)\n",
    "    else:\n",
    "        y_test_label.append(0)\n",
    "        "
   ]
  },
  {
   "cell_type": "markdown",
   "metadata": {},
   "source": [
    "0 - normal <br>\n",
    "1 - paced <br>\n",
    "2 - lbbb <br>\n",
    "3 - pvc <br>\n",
    "4 - rbbb"
   ]
  },
  {
   "cell_type": "markdown",
   "metadata": {},
   "source": [
    "plt.imshow(X_train[320])"
   ]
  },
  {
   "cell_type": "code",
   "execution_count": 5,
   "metadata": {},
   "outputs": [],
   "source": [
    "input_shape = (int(215/5), int(215/5), 3)"
   ]
  },
  {
   "cell_type": "code",
   "execution_count": 6,
   "metadata": {},
   "outputs": [],
   "source": [
    "cnn_model = Sequential()\n",
    "\n",
    "cnn_model.add(Conv2D(64, (3, 3), input_shape=input_shape, activation='relu'))\n",
    "cnn_model.add(Conv2D(64, (3, 3), activation='relu'))\n",
    "cnn_model.add(MaxPooling2D(pool_size=(2, 2)))\n",
    "cnn_model.add(Dropout(0.25))\n",
    "\n",
    "cnn_model.add(Conv2D(32, (3, 3), padding='same', activation='relu'))\n",
    "cnn_model.add(Conv2D(32, (3, 3), activation='relu'))\n",
    "cnn_model.add(MaxPooling2D(pool_size=(2, 2)))\n",
    "cnn_model.add(Dropout(0.25))\n",
    "\n",
    "cnn_model.add(Conv2D(32, (3, 3), padding='same', activation='relu'))\n",
    "cnn_model.add(Conv2D(32, (3, 3), activation='relu'))\n",
    "cnn_model.add(MaxPooling2D(pool_size=(2, 2)))\n",
    "cnn_model.add(Dropout(0.25))\n",
    "\n",
    "cnn_model.add(Flatten())\n",
    "cnn_model.add(Dense(256, activation='relu'))\n",
    "cnn_model.add(Dropout(0.5))\n",
    "cnn_model.add(Dense(5, activation='softmax'))"
   ]
  },
  {
   "cell_type": "code",
   "execution_count": 7,
   "metadata": {},
   "outputs": [],
   "source": [
    "cnn_model.compile(optimizer=Adam(lr=0.0001, beta_1=0.9, beta_2=0.999), loss='categorical_crossentropy', metrics=['accuracy'])"
   ]
  },
  {
   "cell_type": "code",
   "execution_count": 8,
   "metadata": {},
   "outputs": [
    {
     "name": "stdout",
     "output_type": "stream",
     "text": [
      "Train on 360 samples, validate on 40 samples\n",
      "Epoch 1/100\n",
      "360/360 [==============================] - 2s 6ms/step - loss: 12.7303 - acc: 0.1889 - val_loss: 16.1181 - val_acc: 0.0000e+00\n",
      "Epoch 2/100\n",
      "360/360 [==============================] - 0s 1ms/step - loss: 12.2750 - acc: 0.2250 - val_loss: 16.1181 - val_acc: 0.0000e+00\n",
      "Epoch 3/100\n",
      "360/360 [==============================] - 0s 1ms/step - loss: 12.3529 - acc: 0.2167 - val_loss: 16.1181 - val_acc: 0.0000e+00\n",
      "Epoch 4/100\n",
      "360/360 [==============================] - 0s 1ms/step - loss: 12.4515 - acc: 0.2111 - val_loss: 16.1181 - val_acc: 0.0000e+00\n",
      "Epoch 5/100\n",
      "360/360 [==============================] - 0s 1ms/step - loss: 12.4657 - acc: 0.2194 - val_loss: 16.1181 - val_acc: 0.0000e+00\n",
      "Epoch 6/100\n",
      "360/360 [==============================] - 0s 1ms/step - loss: 12.4475 - acc: 0.2167 - val_loss: 16.1181 - val_acc: 0.0000e+00\n",
      "Epoch 7/100\n",
      "360/360 [==============================] - 0s 1ms/step - loss: 12.4982 - acc: 0.2222 - val_loss: 16.1181 - val_acc: 0.0000e+00\n",
      "Epoch 8/100\n",
      "360/360 [==============================] - 0s 1ms/step - loss: 12.3897 - acc: 0.2278 - val_loss: 16.1181 - val_acc: 0.0000e+00\n",
      "Epoch 9/100\n",
      "360/360 [==============================] - 0s 1ms/step - loss: 12.6484 - acc: 0.2139 - val_loss: 16.1181 - val_acc: 0.0000e+00\n",
      "Epoch 10/100\n",
      "360/360 [==============================] - 0s 1ms/step - loss: 12.4468 - acc: 0.2278 - val_loss: 16.1181 - val_acc: 0.0000e+00\n",
      "Epoch 11/100\n",
      "360/360 [==============================] - 0s 1ms/step - loss: 12.5081 - acc: 0.2222 - val_loss: 16.1181 - val_acc: 0.0000e+00\n",
      "Epoch 12/100\n",
      "360/360 [==============================] - 0s 1ms/step - loss: 12.6013 - acc: 0.2167 - val_loss: 16.1181 - val_acc: 0.0000e+00\n",
      "Epoch 13/100\n",
      "360/360 [==============================] - 0s 1ms/step - loss: 12.5363 - acc: 0.2222 - val_loss: 16.1181 - val_acc: 0.0000e+00\n",
      "Epoch 14/100\n",
      "360/360 [==============================] - 0s 1ms/step - loss: 12.5363 - acc: 0.2222 - val_loss: 16.1181 - val_acc: 0.0000e+00\n",
      "Epoch 15/100\n",
      "360/360 [==============================] - 0s 1ms/step - loss: 12.3830 - acc: 0.2250 - val_loss: 16.1181 - val_acc: 0.0000e+00\n",
      "Epoch 16/100\n",
      "360/360 [==============================] - 0s 1ms/step - loss: 12.5087 - acc: 0.2194 - val_loss: 16.1181 - val_acc: 0.0000e+00\n",
      "Epoch 17/100\n",
      "360/360 [==============================] - 0s 1ms/step - loss: 12.4353 - acc: 0.2222 - val_loss: 16.1181 - val_acc: 0.0000e+00\n",
      "Epoch 18/100\n",
      "360/360 [==============================] - 0s 1ms/step - loss: 12.2974 - acc: 0.2278 - val_loss: 16.1181 - val_acc: 0.0000e+00\n",
      "Epoch 19/100\n",
      "360/360 [==============================] - 0s 1ms/step - loss: 12.6928 - acc: 0.1917 - val_loss: 16.1181 - val_acc: 0.0000e+00\n",
      "Epoch 20/100\n",
      "360/360 [==============================] - 0s 1ms/step - loss: 12.4877 - acc: 0.2194 - val_loss: 16.1181 - val_acc: 0.0000e+00\n",
      "Epoch 21/100\n",
      "360/360 [==============================] - 0s 1ms/step - loss: 12.7756 - acc: 0.2000 - val_loss: 16.1181 - val_acc: 0.0000e+00\n",
      "Epoch 22/100\n",
      "360/360 [==============================] - 0s 1ms/step - loss: 12.2650 - acc: 0.2306 - val_loss: 16.1181 - val_acc: 0.0000e+00\n",
      "Epoch 23/100\n",
      "360/360 [==============================] - 0s 1ms/step - loss: 12.1304 - acc: 0.2389 - val_loss: 16.1181 - val_acc: 0.0000e+00\n",
      "Epoch 24/100\n",
      "360/360 [==============================] - 0s 1ms/step - loss: 12.7489 - acc: 0.1972 - val_loss: 16.1181 - val_acc: 0.0000e+00\n",
      "Epoch 25/100\n",
      "360/360 [==============================] - 0s 1ms/step - loss: 12.1878 - acc: 0.2250 - val_loss: 16.1181 - val_acc: 0.0000e+00\n",
      "Epoch 26/100\n",
      "360/360 [==============================] - 0s 1ms/step - loss: 12.0045 - acc: 0.2333 - val_loss: 16.1181 - val_acc: 0.0000e+00\n",
      "Epoch 27/100\n",
      "360/360 [==============================] - 0s 1ms/step - loss: 11.8138 - acc: 0.2361 - val_loss: 16.1181 - val_acc: 0.0000e+00\n",
      "Epoch 28/100\n",
      "360/360 [==============================] - 0s 1ms/step - loss: 12.2730 - acc: 0.2222 - val_loss: 16.1181 - val_acc: 0.0000e+00\n",
      "Epoch 29/100\n",
      "360/360 [==============================] - 0s 1ms/step - loss: 12.3091 - acc: 0.2194 - val_loss: 16.1181 - val_acc: 0.0000e+00\n",
      "Epoch 30/100\n",
      "360/360 [==============================] - 0s 1ms/step - loss: 11.5125 - acc: 0.2389 - val_loss: 16.1181 - val_acc: 0.0000e+00\n",
      "Epoch 31/100\n",
      "360/360 [==============================] - 0s 1ms/step - loss: 6.8673 - acc: 0.2139 - val_loss: 2.2403 - val_acc: 0.0000e+00\n",
      "Epoch 32/100\n",
      "360/360 [==============================] - 0s 1ms/step - loss: 1.6218 - acc: 0.2972 - val_loss: 1.9792 - val_acc: 0.0000e+00\n",
      "Epoch 33/100\n",
      "360/360 [==============================] - 0s 1ms/step - loss: 1.5408 - acc: 0.3361 - val_loss: 1.8131 - val_acc: 0.0000e+00\n",
      "Epoch 34/100\n",
      "360/360 [==============================] - 0s 1ms/step - loss: 1.5175 - acc: 0.3556 - val_loss: 1.7569 - val_acc: 0.0000e+00\n",
      "Epoch 35/100\n",
      "360/360 [==============================] - 0s 1ms/step - loss: 1.4804 - acc: 0.3861 - val_loss: 1.7794 - val_acc: 0.0000e+00\n",
      "Epoch 36/100\n",
      "360/360 [==============================] - 0s 1ms/step - loss: 1.4148 - acc: 0.4556 - val_loss: 1.8671 - val_acc: 0.0000e+00\n",
      "Epoch 37/100\n",
      "360/360 [==============================] - 0s 1ms/step - loss: 1.4663 - acc: 0.4056 - val_loss: 1.7791 - val_acc: 0.0000e+00\n",
      "Epoch 38/100\n",
      "360/360 [==============================] - 0s 1ms/step - loss: 1.3729 - acc: 0.4667 - val_loss: 1.7232 - val_acc: 0.0000e+00\n",
      "Epoch 39/100\n",
      "360/360 [==============================] - 0s 1ms/step - loss: 1.3431 - acc: 0.4583 - val_loss: 1.6609 - val_acc: 0.0000e+00\n",
      "Epoch 40/100\n",
      "360/360 [==============================] - 0s 1ms/step - loss: 1.3184 - acc: 0.4806 - val_loss: 1.6202 - val_acc: 0.0000e+00\n",
      "Epoch 41/100\n",
      "360/360 [==============================] - 0s 1ms/step - loss: 1.2653 - acc: 0.4889 - val_loss: 1.4232 - val_acc: 0.2500\n",
      "Epoch 42/100\n",
      "360/360 [==============================] - 0s 1ms/step - loss: 1.1683 - acc: 0.5444 - val_loss: 1.3296 - val_acc: 0.2500\n",
      "Epoch 43/100\n",
      "360/360 [==============================] - 0s 1ms/step - loss: 1.1402 - acc: 0.5611 - val_loss: 1.1984 - val_acc: 0.5000\n",
      "Epoch 44/100\n",
      "360/360 [==============================] - 0s 1ms/step - loss: 1.0776 - acc: 0.6028 - val_loss: 1.0947 - val_acc: 0.5500\n",
      "Epoch 45/100\n",
      "360/360 [==============================] - 0s 1ms/step - loss: 1.0123 - acc: 0.6139 - val_loss: 1.0304 - val_acc: 0.6500\n",
      "Epoch 46/100\n",
      "360/360 [==============================] - 0s 1ms/step - loss: 1.0104 - acc: 0.6167 - val_loss: 0.8914 - val_acc: 0.9250\n",
      "Epoch 47/100\n",
      "360/360 [==============================] - 0s 1ms/step - loss: 0.9604 - acc: 0.6583 - val_loss: 0.7444 - val_acc: 0.9000\n",
      "Epoch 48/100\n",
      "360/360 [==============================] - 0s 1ms/step - loss: 0.8946 - acc: 0.6417 - val_loss: 0.5316 - val_acc: 0.9000\n",
      "Epoch 49/100\n",
      "360/360 [==============================] - 0s 1ms/step - loss: 0.8575 - acc: 0.6861 - val_loss: 0.4729 - val_acc: 0.9250\n",
      "Epoch 50/100\n",
      "360/360 [==============================] - 0s 1ms/step - loss: 0.8204 - acc: 0.6750 - val_loss: 0.4067 - val_acc: 0.9250\n",
      "Epoch 51/100\n",
      "360/360 [==============================] - 0s 1ms/step - loss: 0.7428 - acc: 0.7500 - val_loss: 0.4519 - val_acc: 0.9750\n",
      "Epoch 52/100\n",
      "360/360 [==============================] - 0s 1ms/step - loss: 0.7284 - acc: 0.7028 - val_loss: 0.3376 - val_acc: 0.9750\n",
      "Epoch 53/100\n",
      "360/360 [==============================] - 0s 1ms/step - loss: 0.7061 - acc: 0.7306 - val_loss: 0.3728 - val_acc: 0.9500\n",
      "Epoch 54/100\n",
      "360/360 [==============================] - 0s 1ms/step - loss: 0.6391 - acc: 0.7500 - val_loss: 0.3637 - val_acc: 0.9500\n",
      "Epoch 55/100\n",
      "360/360 [==============================] - 0s 1ms/step - loss: 0.6652 - acc: 0.7444 - val_loss: 0.3649 - val_acc: 0.9250\n",
      "Epoch 56/100\n",
      "360/360 [==============================] - 0s 1ms/step - loss: 0.6056 - acc: 0.7639 - val_loss: 0.2510 - val_acc: 0.9500\n",
      "Epoch 57/100\n",
      "360/360 [==============================] - 0s 1ms/step - loss: 0.5639 - acc: 0.7917 - val_loss: 0.1577 - val_acc: 0.9750\n",
      "Epoch 58/100\n",
      "360/360 [==============================] - 0s 1ms/step - loss: 0.5704 - acc: 0.7889 - val_loss: 0.2143 - val_acc: 0.9500\n",
      "Epoch 59/100\n",
      "360/360 [==============================] - 0s 1ms/step - loss: 0.5292 - acc: 0.8333 - val_loss: 0.2357 - val_acc: 0.9500\n",
      "Epoch 60/100\n"
     ]
    },
    {
     "name": "stdout",
     "output_type": "stream",
     "text": [
      "360/360 [==============================] - 0s 1ms/step - loss: 0.5241 - acc: 0.8111 - val_loss: 0.1386 - val_acc: 0.9750\n",
      "Epoch 61/100\n",
      "360/360 [==============================] - 0s 1ms/step - loss: 0.4757 - acc: 0.8111 - val_loss: 0.1421 - val_acc: 0.9750\n",
      "Epoch 62/100\n",
      "360/360 [==============================] - 0s 1ms/step - loss: 0.4668 - acc: 0.8333 - val_loss: 0.1216 - val_acc: 0.9750\n",
      "Epoch 63/100\n",
      "360/360 [==============================] - 0s 1ms/step - loss: 0.5066 - acc: 0.8194 - val_loss: 0.1338 - val_acc: 0.9750\n",
      "Epoch 64/100\n",
      "360/360 [==============================] - 0s 1ms/step - loss: 0.4529 - acc: 0.8333 - val_loss: 0.0882 - val_acc: 0.9750\n",
      "Epoch 65/100\n",
      "360/360 [==============================] - 0s 1ms/step - loss: 0.4323 - acc: 0.8556 - val_loss: 0.0798 - val_acc: 1.0000\n",
      "Epoch 66/100\n",
      "360/360 [==============================] - 0s 1ms/step - loss: 0.3908 - acc: 0.8417 - val_loss: 0.0743 - val_acc: 1.0000\n",
      "Epoch 67/100\n",
      "360/360 [==============================] - 0s 1ms/step - loss: 0.4303 - acc: 0.8583 - val_loss: 0.1303 - val_acc: 1.0000\n",
      "Epoch 68/100\n",
      "360/360 [==============================] - 0s 1ms/step - loss: 0.3756 - acc: 0.8694 - val_loss: 0.1090 - val_acc: 0.9750\n",
      "Epoch 69/100\n",
      "360/360 [==============================] - 0s 1ms/step - loss: 0.3489 - acc: 0.8917 - val_loss: 0.0878 - val_acc: 0.9750\n",
      "Epoch 70/100\n",
      "360/360 [==============================] - 0s 1ms/step - loss: 0.3514 - acc: 0.8722 - val_loss: 0.0674 - val_acc: 0.9750\n",
      "Epoch 71/100\n",
      "360/360 [==============================] - 0s 1ms/step - loss: 0.3549 - acc: 0.8833 - val_loss: 0.0635 - val_acc: 0.9750\n",
      "Epoch 72/100\n",
      "360/360 [==============================] - 0s 1ms/step - loss: 0.3792 - acc: 0.8750 - val_loss: 0.0593 - val_acc: 0.9750\n",
      "Epoch 73/100\n",
      "360/360 [==============================] - 0s 1ms/step - loss: 0.3390 - acc: 0.8806 - val_loss: 0.0519 - val_acc: 1.0000\n",
      "Epoch 74/100\n",
      "360/360 [==============================] - 0s 1ms/step - loss: 0.3160 - acc: 0.8944 - val_loss: 0.0743 - val_acc: 1.0000\n",
      "Epoch 75/100\n",
      "360/360 [==============================] - 0s 1ms/step - loss: 0.3310 - acc: 0.8861 - val_loss: 0.0575 - val_acc: 0.9750\n",
      "Epoch 76/100\n",
      "360/360 [==============================] - 0s 1ms/step - loss: 0.2921 - acc: 0.8944 - val_loss: 0.0560 - val_acc: 0.9750\n",
      "Epoch 77/100\n",
      "360/360 [==============================] - 0s 1ms/step - loss: 0.2910 - acc: 0.9000 - val_loss: 0.0513 - val_acc: 1.0000\n",
      "Epoch 78/100\n",
      "360/360 [==============================] - 0s 1ms/step - loss: 0.3421 - acc: 0.8944 - val_loss: 0.0464 - val_acc: 1.0000\n",
      "Epoch 79/100\n",
      "360/360 [==============================] - 0s 1ms/step - loss: 0.2919 - acc: 0.9028 - val_loss: 0.0669 - val_acc: 1.0000\n",
      "Epoch 80/100\n",
      "360/360 [==============================] - 0s 1ms/step - loss: 0.2741 - acc: 0.9028 - val_loss: 0.0308 - val_acc: 1.0000\n",
      "Epoch 81/100\n",
      "360/360 [==============================] - 0s 1ms/step - loss: 0.2512 - acc: 0.9139 - val_loss: 0.0200 - val_acc: 1.0000\n",
      "Epoch 82/100\n",
      "360/360 [==============================] - 0s 1ms/step - loss: 0.2567 - acc: 0.9194 - val_loss: 0.0411 - val_acc: 1.0000\n",
      "Epoch 83/100\n",
      "360/360 [==============================] - 0s 1ms/step - loss: 0.2352 - acc: 0.9278 - val_loss: 0.0212 - val_acc: 1.0000\n",
      "Epoch 84/100\n",
      "360/360 [==============================] - 0s 1ms/step - loss: 0.2755 - acc: 0.9139 - val_loss: 0.0215 - val_acc: 1.0000\n",
      "Epoch 85/100\n",
      "360/360 [==============================] - 0s 1ms/step - loss: 0.2617 - acc: 0.9056 - val_loss: 0.0205 - val_acc: 1.0000\n",
      "Epoch 86/100\n",
      "360/360 [==============================] - 0s 1ms/step - loss: 0.2507 - acc: 0.9083 - val_loss: 0.0109 - val_acc: 1.0000\n",
      "Epoch 87/100\n",
      "360/360 [==============================] - 0s 1ms/step - loss: 0.2311 - acc: 0.9222 - val_loss: 0.0197 - val_acc: 1.0000\n",
      "Epoch 88/100\n",
      "360/360 [==============================] - 0s 1ms/step - loss: 0.2322 - acc: 0.9222 - val_loss: 0.0244 - val_acc: 1.0000\n",
      "Epoch 89/100\n",
      "360/360 [==============================] - 0s 1ms/step - loss: 0.2047 - acc: 0.9222 - val_loss: 0.0126 - val_acc: 1.0000\n",
      "Epoch 90/100\n",
      "360/360 [==============================] - 0s 1ms/step - loss: 0.2109 - acc: 0.9500 - val_loss: 0.0145 - val_acc: 1.0000\n",
      "Epoch 91/100\n",
      "360/360 [==============================] - 0s 1ms/step - loss: 0.2447 - acc: 0.9222 - val_loss: 0.0181 - val_acc: 1.0000\n",
      "Epoch 92/100\n",
      "360/360 [==============================] - 0s 1ms/step - loss: 0.2037 - acc: 0.9278 - val_loss: 0.0201 - val_acc: 1.0000\n",
      "Epoch 93/100\n",
      "360/360 [==============================] - 0s 1ms/step - loss: 0.1715 - acc: 0.9417 - val_loss: 0.0157 - val_acc: 1.0000\n",
      "Epoch 94/100\n",
      "360/360 [==============================] - 0s 1ms/step - loss: 0.2215 - acc: 0.9306 - val_loss: 0.0124 - val_acc: 1.0000\n",
      "Epoch 95/100\n",
      "360/360 [==============================] - 0s 1ms/step - loss: 0.2139 - acc: 0.9139 - val_loss: 0.0174 - val_acc: 1.0000\n",
      "Epoch 96/100\n",
      "360/360 [==============================] - 0s 1ms/step - loss: 0.1933 - acc: 0.9250 - val_loss: 0.0054 - val_acc: 1.0000\n",
      "Epoch 97/100\n",
      "360/360 [==============================] - 0s 1ms/step - loss: 0.2000 - acc: 0.9306 - val_loss: 0.0075 - val_acc: 1.0000\n",
      "Epoch 98/100\n",
      "360/360 [==============================] - 0s 1ms/step - loss: 0.1714 - acc: 0.9417 - val_loss: 0.0102 - val_acc: 1.0000\n",
      "Epoch 99/100\n",
      "360/360 [==============================] - 0s 1ms/step - loss: 0.2010 - acc: 0.9389 - val_loss: 0.0169 - val_acc: 1.0000\n",
      "Epoch 100/100\n",
      "360/360 [==============================] - 0s 1ms/step - loss: 0.1672 - acc: 0.9361 - val_loss: 0.0078 - val_acc: 1.0000\n"
     ]
    }
   ],
   "source": [
    "classifier = cnn_model.fit(X_train, y_train, validation_split=0.1, epochs=100, batch_size=9, shuffle=True)"
   ]
  },
  {
   "cell_type": "code",
   "execution_count": 9,
   "metadata": {},
   "outputs": [
    {
     "name": "stdout",
     "output_type": "stream",
     "text": [
      "100/100 [==============================] - 0s 745us/step\n",
      "Loss = 0.06385391404852271\n",
      "Accuracy = 0.98\n"
     ]
    }
   ],
   "source": [
    "loss, accuracy = cnn_model.evaluate(X_test, y_test)\n",
    "print(\"Loss = \"+str(loss))\n",
    "print(\"Accuracy = \"+str(accuracy))"
   ]
  },
  {
   "cell_type": "code",
   "execution_count": 10,
   "metadata": {},
   "outputs": [],
   "source": [
    "acc_values = cnn_model.history.history['acc']\n",
    "val_acc_values = cnn_model.history.history['val_acc']\n",
    "epochs = range(1, len(acc_values) + 1)\n",
    "plt.plot(epochs, acc_values, 'r', label='Training acc')\n",
    "plt.plot(epochs, val_acc_values, 'b', label='Validation acc')\n",
    "plt.title('Training and validation accuracy')\n",
    "plt.xlabel('Epochs')\n",
    "plt.ylabel('Accuracy')\n",
    "plt.legend()\n",
    "plt.show()"
   ]
  },
  {
   "cell_type": "code",
   "execution_count": 11,
   "metadata": {},
   "outputs": [],
   "source": [
    "predictions = cnn_model.predict_classes(X_test, batch_size=5)"
   ]
  },
  {
   "cell_type": "code",
   "execution_count": 12,
   "metadata": {},
   "outputs": [
    {
     "data": {
      "text/plain": [
       "array([0, 0, 0, 0, 0, 0, 0, 0, 0, 0, 0, 0, 0, 0, 0, 0, 0, 0, 0, 0, 1, 1,\n",
       "       1, 1, 1, 1, 1, 1, 1, 1, 1, 1, 1, 1, 0, 1, 1, 1, 1, 1, 2, 2, 2, 2,\n",
       "       2, 2, 2, 2, 2, 2, 2, 2, 2, 2, 2, 2, 2, 2, 2, 2, 3, 3, 3, 3, 3, 3,\n",
       "       3, 3, 3, 3, 3, 3, 3, 3, 3, 3, 3, 0, 3, 3, 4, 4, 4, 4, 4, 4, 4, 4,\n",
       "       4, 4, 4, 4, 4, 4, 4, 4, 4, 4, 4, 4])"
      ]
     },
     "execution_count": 12,
     "metadata": {},
     "output_type": "execute_result"
    }
   ],
   "source": [
    "predictions"
   ]
  },
  {
   "cell_type": "code",
   "execution_count": 13,
   "metadata": {},
   "outputs": [],
   "source": [
    "cn = confusion_matrix(y_test_label, predictions)"
   ]
  },
  {
   "cell_type": "code",
   "execution_count": 14,
   "metadata": {},
   "outputs": [
    {
     "name": "stdout",
     "output_type": "stream",
     "text": [
      "Confusion Matrix\n"
     ]
    },
    {
     "data": {
      "text/plain": [
       "array([[20,  0,  0,  0,  0],\n",
       "       [ 1, 19,  0,  0,  0],\n",
       "       [ 0,  0, 20,  0,  0],\n",
       "       [ 1,  0,  0, 19,  0],\n",
       "       [ 0,  0,  0,  0, 20]])"
      ]
     },
     "execution_count": 14,
     "metadata": {},
     "output_type": "execute_result"
    }
   ],
   "source": [
    "print (\"Confusion Matrix\")\n",
    "cn"
   ]
  },
  {
   "cell_type": "code",
   "execution_count": 15,
   "metadata": {},
   "outputs": [],
   "source": [
    "cnn_model.save(\"../models/cnn_5labels_8.h5\")"
   ]
  },
  {
   "cell_type": "code",
   "execution_count": 17,
   "metadata": {},
   "outputs": [
    {
     "name": "stdout",
     "output_type": "stream",
     "text": [
      "_________________________________________________________________\n",
      "Layer (type)                 Output Shape              Param #   \n",
      "=================================================================\n",
      "conv2d_1 (Conv2D)            (None, 41, 41, 64)        1792      \n",
      "_________________________________________________________________\n",
      "conv2d_2 (Conv2D)            (None, 39, 39, 64)        36928     \n",
      "_________________________________________________________________\n",
      "max_pooling2d_1 (MaxPooling2 (None, 19, 19, 64)        0         \n",
      "_________________________________________________________________\n",
      "dropout_1 (Dropout)          (None, 19, 19, 64)        0         \n",
      "_________________________________________________________________\n",
      "conv2d_3 (Conv2D)            (None, 19, 19, 32)        18464     \n",
      "_________________________________________________________________\n",
      "conv2d_4 (Conv2D)            (None, 17, 17, 32)        9248      \n",
      "_________________________________________________________________\n",
      "max_pooling2d_2 (MaxPooling2 (None, 8, 8, 32)          0         \n",
      "_________________________________________________________________\n",
      "dropout_2 (Dropout)          (None, 8, 8, 32)          0         \n",
      "_________________________________________________________________\n",
      "conv2d_5 (Conv2D)            (None, 8, 8, 32)          9248      \n",
      "_________________________________________________________________\n",
      "conv2d_6 (Conv2D)            (None, 6, 6, 32)          9248      \n",
      "_________________________________________________________________\n",
      "max_pooling2d_3 (MaxPooling2 (None, 3, 3, 32)          0         \n",
      "_________________________________________________________________\n",
      "dropout_3 (Dropout)          (None, 3, 3, 32)          0         \n",
      "_________________________________________________________________\n",
      "flatten_1 (Flatten)          (None, 288)               0         \n",
      "_________________________________________________________________\n",
      "dense_1 (Dense)              (None, 256)               73984     \n",
      "_________________________________________________________________\n",
      "dropout_4 (Dropout)          (None, 256)               0         \n",
      "_________________________________________________________________\n",
      "dense_2 (Dense)              (None, 5)                 1285      \n",
      "=================================================================\n",
      "Total params: 160,197\n",
      "Trainable params: 160,197\n",
      "Non-trainable params: 0\n",
      "_________________________________________________________________\n"
     ]
    }
   ],
   "source": [
    "cnn_model.summary()"
   ]
  }
 ],
 "metadata": {
  "kernelspec": {
   "display_name": "Python 3",
   "language": "python",
   "name": "python3"
  },
  "language_info": {
   "codemirror_mode": {
    "name": "ipython",
    "version": 3
   },
   "file_extension": ".py",
   "mimetype": "text/x-python",
   "name": "python",
   "nbconvert_exporter": "python",
   "pygments_lexer": "ipython3",
   "version": "3.6.5"
  }
 },
 "nbformat": 4,
 "nbformat_minor": 2
}
