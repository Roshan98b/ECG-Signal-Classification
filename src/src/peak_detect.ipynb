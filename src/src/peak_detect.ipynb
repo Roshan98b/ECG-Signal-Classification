{
 "cells": [
  {
   "cell_type": "code",
   "execution_count": 1,
   "metadata": {},
   "outputs": [],
   "source": [
    "%matplotlib tk"
   ]
  },
  {
   "cell_type": "code",
   "execution_count": 2,
   "metadata": {},
   "outputs": [],
   "source": [
    "import wfdb\n",
    "import numpy as np\n",
    "import matplotlib.pyplot as plt"
   ]
  },
  {
   "cell_type": "code",
   "execution_count": 3,
   "metadata": {},
   "outputs": [],
   "source": [
    "from statistics import median"
   ]
  },
  {
   "cell_type": "code",
   "execution_count": 4,
   "metadata": {},
   "outputs": [],
   "source": [
    "def diff(values):\n",
    "    peak = []\n",
    "    if type(values[0]) is np.ndarray:\n",
    "        peak = [(values[i]-values[i-1]).tolist()[0] for i in range(1,len(values))]\n",
    "    elif type(values[0]) is float:\n",
    "        peak = [(values[i]-values[i-1]) for i in range(1,len(values))]\n",
    "    return peak"
   ]
  },
  {
   "cell_type": "code",
   "execution_count": 5,
   "metadata": {},
   "outputs": [],
   "source": [
    "def mean(values):\n",
    "    return sum(values)/len(values)"
   ]
  },
  {
   "cell_type": "code",
   "execution_count": 6,
   "metadata": {},
   "outputs": [],
   "source": [
    "def activate(values, avg):\n",
    "    return [i if i > avg else 0.0 for i in values]"
   ]
  },
  {
   "cell_type": "code",
   "execution_count": 7,
   "metadata": {},
   "outputs": [],
   "source": [
    "def activate_indices(values):\n",
    "    length = len(values)\n",
    "    return [i+1 if values[i] != 0 else 0 for i in range(length)]    "
   ]
  },
  {
   "cell_type": "code",
   "execution_count": 8,
   "metadata": {},
   "outputs": [],
   "source": [
    "def return_tuple(activate_indices, activate):\n",
    "    return [i for i in zip(activate_indices, activate)]"
   ]
  },
  {
   "cell_type": "code",
   "execution_count": 9,
   "metadata": {},
   "outputs": [],
   "source": [
    "def convert_to_abs(values):\n",
    "    return [i if i>=0 else -i for i in values]"
   ]
  },
  {
   "cell_type": "code",
   "execution_count": 10,
   "metadata": {},
   "outputs": [],
   "source": [
    "def sma(values, window):\n",
    "    weights = np.repeat(1.0, window)/window\n",
    "    smas = np.convolve(values, weights, 'valid')\n",
    "    return smas"
   ]
  },
  {
   "cell_type": "code",
   "execution_count": 11,
   "metadata": {},
   "outputs": [],
   "source": [
    "def padding(values, offset):\n",
    "    temp = [0]*offset\n",
    "    for x in values:\n",
    "        temp.append(x)\n",
    "    return temp"
   ]
  },
  {
   "cell_type": "code",
   "execution_count": 12,
   "metadata": {},
   "outputs": [],
   "source": [
    "def peaks(values):\n",
    "    flag = False\n",
    "    temp = []\n",
    "    peaks = []\n",
    "    for i in range(len(values)):\n",
    "        if flag == True and values[i] == 0:\n",
    "            peaks.append(int(median(temp)))\n",
    "            temp = []\n",
    "        if values[i] == 0:\n",
    "            flag = False\n",
    "        else:\n",
    "            flag = True\n",
    "        if flag == True:\n",
    "            temp.append(i)\n",
    "    return peaks"
   ]
  },
  {
   "cell_type": "code",
   "execution_count": 13,
   "metadata": {},
   "outputs": [],
   "source": [
    "def filter_peaks(values, seconds, frequency):\n",
    "    avg_no_of_peaks = int(seconds*1.33)\n",
    "    clip = ((seconds * frequency) // avg_no_of_peaks) // 2\n",
    "    temp = [values[i] for i in range(1, len(values)) if values[i] - values[i-1] >= clip]\n",
    "    temp.insert(0,values[0])\n",
    "    return temp"
   ]
  },
  {
   "cell_type": "code",
   "execution_count": 49,
   "metadata": {},
   "outputs": [],
   "source": [
    "def ecg_peak_detection(values, sma_offset, mean_offset, seconds, frequency):\n",
    "    plt.plot(range(len(ecg)), ecg, label='ECG')\n",
    "    # Find difference between consecutive elemnts\n",
    "    difference = diff(values)\n",
    "    plt.plot(range(len(difference)), difference, label='Difference')\n",
    "    # Convert to absolute values\n",
    "    absolute_difference = convert_to_abs(difference)\n",
    "    plt.plot(range(len(absolute_difference)), absolute_difference, label='Absolute Difference')\n",
    "    # Simple Moving Average\n",
    "    moving_average = sma(absolute_difference, sma_offset)\n",
    "    plt.plot(range(len(moving_average)), moving_average, label='Simple Moving Average')\n",
    "    # Pad with zeroes in the beginning\n",
    "    padded_moving_average = padding(moving_average, (len(values)-len(moving_average))//2)\n",
    "    plt.plot(range(len(padded_moving_average)), padded_moving_average, label='Padded Simple Moving Average')\n",
    "    # Activate values greater that mean + mean_offset\n",
    "    activate_peaks = activate(padded_moving_average, mean(padded_moving_average)+mean_offset)\n",
    "    plt.plot(range(len(activate_peaks)), activate_peaks, label='Activated Peak Areas')\n",
    "    # Find peaks in the activated region\n",
    "    all_peaks = peaks(activate_peaks)\n",
    "    # Filter T Peaks\n",
    "    R_peaks = filter_peaks(all_peaks, seconds, frequency)\n",
    "    plt.scatter(R_peaks, [0]*len(R_peaks), label='R Peaks')\n",
    "    plt.legend()\n",
    "    plt.show()\n",
    "    return R_peaks"
   ]
  },
  {
   "cell_type": "code",
   "execution_count": 15,
   "metadata": {},
   "outputs": [],
   "source": [
    "rec_no = '200'\n",
    "filepath = '../dataset/mitdb/'+rec_no"
   ]
  },
  {
   "cell_type": "code",
   "execution_count": 41,
   "metadata": {},
   "outputs": [],
   "source": [
    "start = 0\n",
    "stop = 2000"
   ]
  },
  {
   "cell_type": "code",
   "execution_count": 50,
   "metadata": {},
   "outputs": [],
   "source": [
    "record = wfdb.rdrecord(filepath, sampfrom=start, sampto=stop, channels=[0])\n",
    "ecg = record.p_signal"
   ]
  },
  {
   "cell_type": "code",
   "execution_count": 51,
   "metadata": {},
   "outputs": [],
   "source": [
    "peak = ecg_peak_detection(ecg, 30, 0.03, (stop-start)/record.fs, record.fs)"
   ]
  },
  {
   "cell_type": "code",
   "execution_count": 23,
   "metadata": {},
   "outputs": [],
   "source": [
    "plt.plot(range(len(ecg)), ecg)\n",
    "plt.scatter(peak, [0]*len(peak))\n",
    "plt.show()"
   ]
  },
  {
   "cell_type": "code",
   "execution_count": 36,
   "metadata": {},
   "outputs": [
    {
     "data": {
      "text/plain": [
       "207"
      ]
     },
     "execution_count": 36,
     "metadata": {},
     "output_type": "execute_result"
    }
   ],
   "source": [
    "len(peak)"
   ]
  },
  {
   "cell_type": "code",
   "execution_count": null,
   "metadata": {},
   "outputs": [],
   "source": [
    "record.__dict__"
   ]
  }
 ],
 "metadata": {
  "kernelspec": {
   "display_name": "Python 3",
   "language": "python",
   "name": "python3"
  },
  "language_info": {
   "codemirror_mode": {
    "name": "ipython",
    "version": 3
   },
   "file_extension": ".py",
   "mimetype": "text/x-python",
   "name": "python",
   "nbconvert_exporter": "python",
   "pygments_lexer": "ipython3",
   "version": "3.6.5"
  }
 },
 "nbformat": 4,
 "nbformat_minor": 2
}
