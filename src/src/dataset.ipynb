{
 "cells": [
  {
   "cell_type": "markdown",
   "metadata": {},
   "source": [
    "# Generate Images from Records by plotting and saving Matplotlib figures "
   ]
  },
  {
   "cell_type": "markdown",
   "metadata": {},
   "source": [
    "Import modules"
   ]
  },
  {
   "cell_type": "code",
   "execution_count": null,
   "metadata": {},
   "outputs": [],
   "source": [
    "%matplotlib \n",
    "import warnings\n",
    "warnings.simplefilter(action='ignore', category=FutureWarning)\n",
    "import matplotlib.pyplot as plt\n",
    "import wfdb\n",
    "import os\n",
    "from wfdb import processing\n",
    "import numpy as np\n",
    "import cv2"
   ]
  },
  {
   "cell_type": "markdown",
   "metadata": {},
   "source": [
    "Download Database "
   ]
  },
  {
   "cell_type": "raw",
   "metadata": {
    "raw_mimetype": "text/x-python"
   },
   "source": [
    "wfdb.dl_database('mitdb', os.getcwd()+\"/mitdb\")"
   ]
  },
  {
   "cell_type": "markdown",
   "metadata": {},
   "source": [
    "Plot all Signals"
   ]
  },
  {
   "cell_type": "raw",
   "metadata": {
    "raw_mimetype": "text/x-python"
   },
   "source": [
    "plot.plot_all_records(\"mitdb\")"
   ]
  },
  {
   "cell_type": "markdown",
   "metadata": {},
   "source": [
    "Record 100 is imported and ploted using 'wfdb' tools."
   ]
  },
  {
   "cell_type": "code",
   "execution_count": null,
   "metadata": {},
   "outputs": [],
   "source": [
    "record = wfdb.rdrecord('../dataset/mitdb/208', channels=[0])\n",
    "annotation = wfdb.rdann('../dataset/mitdb/208','atr')\n",
    "signal, fields = wfdb.rdsamp('../dataset/mitdb/208', channels=[0])"
   ]
  },
  {
   "cell_type": "code",
   "execution_count": null,
   "metadata": {
    "raw_mimetype": "text/x-python"
   },
   "outputs": [],
   "source": [
    "wfdb.plot_wfdb(record=record, annotation=annotation, plot_sym=True, figsize=(20,8))"
   ]
  },
  {
   "cell_type": "code",
   "execution_count": null,
   "metadata": {},
   "outputs": [],
   "source": [
    "figure = []\n",
    "\n",
    "record = wfdb.rdrecord('../dataset/mitdb/100', sampfrom=370-200, sampto=370+200, channels=[0])\n",
    "figure.append(wfdb.plot_wfdb(record=record, title=370, return_fig=True))\n",
    "\n",
    "record = wfdb.rdrecord('../dataset/mitdb/100', sampfrom=370, sampto=370+200, channels=[0])\n",
    "figure.append(wfdb.plot_wfdb(record=record, title=370, return_fig=True))\n",
    "\n",
    "figure[0].savefig('../screenshots/report_pics/description_of_the_process/' + \"/\" + 'full_plot' + \".png\")\n",
    "figure[1].savefig('../screenshots/report_pics/description_of_the_process/' + \"/\" + 'rt_plot' + \".png\")\n",
    "\n",
    "image = figure[1]\n",
    "\n",
    "image.canvas.draw()\n",
    "\n",
    "data = np.frombuffer(image.canvas.tostring_rgb(), dtype=np.uint8)\n",
    "\n",
    "data = data.reshape((image.canvas.get_width_height()[::-1] + (3,)))\n",
    "\n",
    "data = cv2.cvtColor(data, cv2.COLOR_RGB2BGR)\n",
    "\n",
    "data = data[288-250:288-35, 55:390]\n",
    "\n",
    "cv2.imwrite('../screenshots/report_pics/description_of_the_process/' + \"/\" + 'cropped_rt_plot' + \".png\", data)"
   ]
  },
  {
   "cell_type": "markdown",
   "metadata": {},
   "source": [
    "The data structure used to store the signal is Numpy Array. 'p_signal' attribute consists the signal data.\n",
    "The Header file consists of information about the person from whom the signal is extracted.  "
   ]
  },
  {
   "cell_type": "code",
   "execution_count": null,
   "metadata": {},
   "outputs": [],
   "source": [
    "# 'sample' and 'symbol'\n",
    "annotation.__dict__"
   ]
  },
  {
   "cell_type": "code",
   "execution_count": null,
   "metadata": {},
   "outputs": [],
   "source": [
    "record.__dict__"
   ]
  },
  {
   "cell_type": "code",
   "execution_count": null,
   "metadata": {},
   "outputs": [],
   "source": [
    "signal[:,0]"
   ]
  },
  {
   "cell_type": "code",
   "execution_count": null,
   "metadata": {},
   "outputs": [],
   "source": [
    "fields"
   ]
  },
  {
   "cell_type": "markdown",
   "metadata": {},
   "source": [
    "QRS segment detection using 'wfdb'. "
   ]
  },
  {
   "cell_type": "code",
   "execution_count": null,
   "metadata": {
    "raw_mimetype": "text/x-python"
   },
   "outputs": [],
   "source": [
    "rqrs = processing.xqrs_detect(record.p_signal[:,0], record.fs)"
   ]
  },
  {
   "cell_type": "code",
   "execution_count": null,
   "metadata": {},
   "outputs": [],
   "source": [
    "len(rqrs)"
   ]
  },
  {
   "cell_type": "markdown",
   "metadata": {},
   "source": [
    "The record number is stored in 'data'. R-T intervals are plotted and stored in 'figure'.\n",
    "\n",
    "100 - normal\n",
    "\n",
    "118 - rbbb\n",
    "\n",
    "217 - paced\n",
    "\n",
    "106, 208, 233 - PVC"
   ]
  },
  {
   "cell_type": "code",
   "execution_count": null,
   "metadata": {},
   "outputs": [],
   "source": [
    "recs = [\"100\", \"118\", \"217\"]\n",
    "recs = [\"106\"]"
   ]
  },
  {
   "cell_type": "code",
   "execution_count": null,
   "metadata": {},
   "outputs": [],
   "source": [
    "dataset = {}\n",
    "for rec_no in recs:\n",
    "    data = \"../dataset/mitdb/\"+rec_no\n",
    "    result_to = \"../dataset/images/\"+rec_no\n",
    "    record = wfdb.rdrecord(data, channels=[0])\n",
    "    rqrs = processing.xqrs_detect(record.p_signal[:,0], record.fs)\n",
    "    figure = []\n",
    "    for i in range(100):\n",
    "        start = rqrs[i]-200\n",
    "        stop = rqrs[i]+200\n",
    "        if start<0: \n",
    "            start=0\n",
    "        temp_rec = wfdb.rdrecord(data, sampfrom=start,sampto=stop, channels=[0])\n",
    "        figure.append(wfdb.plot_wfdb(record=temp_rec, annotation=temp_ann, plot_sym=True, title=rqrs[i], return_fig=True))\n",
    "        figure[-1].savefig(result_to + \"/\" + str(rqrs[i]) + \".png\")\n",
    "        plt.close()\n",
    "    dataset[rec_no] = figure"
   ]
  },
  {
   "cell_type": "markdown",
   "metadata": {},
   "source": [
    "# Convert Matplotlib Figures to Numpy arrays"
   ]
  },
  {
   "cell_type": "code",
   "execution_count": null,
   "metadata": {},
   "outputs": [],
   "source": [
    "image = dataset[\"100\"][0]"
   ]
  },
  {
   "cell_type": "code",
   "execution_count": null,
   "metadata": {},
   "outputs": [],
   "source": [
    "image.canvas.draw()"
   ]
  },
  {
   "cell_type": "code",
   "execution_count": null,
   "metadata": {},
   "outputs": [],
   "source": [
    "data = np.frombuffer(image.canvas.tostring_rgb(), dtype=np.uint8)"
   ]
  },
  {
   "cell_type": "code",
   "execution_count": null,
   "metadata": {},
   "outputs": [],
   "source": [
    "data = data.reshape((image.canvas.get_width_height()[::-1] + (3,)))"
   ]
  },
  {
   "cell_type": "code",
   "execution_count": null,
   "metadata": {},
   "outputs": [],
   "source": [
    "data.shape"
   ]
  },
  {
   "cell_type": "code",
   "execution_count": null,
   "metadata": {},
   "outputs": [],
   "source": [
    "data = cv2.cvtColor(data, cv2.COLOR_RGB2BGR)"
   ]
  },
  {
   "cell_type": "code",
   "execution_count": null,
   "metadata": {},
   "outputs": [],
   "source": [
    "data = data[288-250:288-35, 55:390]"
   ]
  },
  {
   "cell_type": "code",
   "execution_count": null,
   "metadata": {},
   "outputs": [],
   "source": [
    "data = cv2.resize(data, (int(215/5), int(215/5)), cv2.INTER_LINEAR)"
   ]
  },
  {
   "cell_type": "code",
   "execution_count": null,
   "metadata": {},
   "outputs": [],
   "source": [
    "cv2.imshow('image', data)"
   ]
  },
  {
   "cell_type": "code",
   "execution_count": null,
   "metadata": {},
   "outputs": [],
   "source": [
    "cv2.waitKey(0)\n",
    "cv2.destroyAllWindows()"
   ]
  },
  {
   "cell_type": "markdown",
   "metadata": {},
   "source": [
    "# New Image Generation "
   ]
  },
  {
   "cell_type": "markdown",
   "metadata": {},
   "source": [
    "106 - PVC <br>\n",
    "109 - LBBB <br>\n",
    "213 - Fusion of PVC and Normal"
   ]
  },
  {
   "cell_type": "code",
   "execution_count": null,
   "metadata": {},
   "outputs": [],
   "source": [
    "record = wfdb.rdrecord('../dataset/mitdb/111', channels=[0])\n",
    "annotation = wfdb.rdann('../dataset/mitdb/111','atr')"
   ]
  },
  {
   "cell_type": "code",
   "execution_count": null,
   "metadata": {},
   "outputs": [],
   "source": [
    "wfdb.plot_wfdb(record=record, annotation=annotation, plot_sym=True)"
   ]
  },
  {
   "cell_type": "code",
   "execution_count": null,
   "metadata": {},
   "outputs": [],
   "source": [
    "recs = ['109']\n",
    "label = 'L'"
   ]
  },
  {
   "cell_type": "code",
   "execution_count": null,
   "metadata": {},
   "outputs": [],
   "source": [
    "dataset = {}\n",
    "for rec_no in recs:\n",
    "    data = \"../dataset/mitdb/\"+rec_no\n",
    "    result_to = \"../dataset/images-half/\"+rec_no\n",
    "    figure = []\n",
    "    for i in range(115):\n",
    "        if annotation.symbol[i] == label:\n",
    "            start = annotation.sample[i]\n",
    "            stop = annotation.sample[i]+200\n",
    "            if start<0: \n",
    "                start=0\n",
    "            temp_rec = wfdb.rdrecord(data, sampfrom=start,sampto=stop, channels=[0])\n",
    "            figure.append(wfdb.plot_wfdb(record=temp_rec, plot_sym=True, title=annotation.sample[i], return_fig=True))\n",
    "            figure[-1].savefig(result_to + \"/\" + str(annotation.sample[i]) + \".png\")\n",
    "            plt.show()\n",
    "            plt.close()\n",
    "    dataset[rec_no] = figure"
   ]
  }
 ],
 "metadata": {
  "celltoolbar": "Raw Cell Format",
  "kernelspec": {
   "display_name": "Python 3",
   "language": "python",
   "name": "python3"
  },
  "language_info": {
   "codemirror_mode": {
    "name": "ipython",
    "version": 3
   },
   "file_extension": ".py",
   "mimetype": "text/x-python",
   "name": "python",
   "nbconvert_exporter": "python",
   "pygments_lexer": "ipython3",
   "version": "3.6.5"
  }
 },
 "nbformat": 4,
 "nbformat_minor": 2
}
